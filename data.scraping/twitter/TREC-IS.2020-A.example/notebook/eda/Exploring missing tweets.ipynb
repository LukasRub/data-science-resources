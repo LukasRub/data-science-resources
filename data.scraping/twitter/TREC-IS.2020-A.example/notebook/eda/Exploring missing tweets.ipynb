{
 "cells": [
  {
   "cell_type": "code",
   "execution_count": 1,
   "metadata": {},
   "outputs": [],
   "source": [
    "# Standard imports\n",
    "import pandas as pd\n",
    "\n",
    "# Local modules\n",
    "import os\n",
    "import sys\n",
    "sys.path.insert(0, os.path.abspath('../../src/preparation/'))\n",
    "\n",
    "from get_tweets import TweetScraper, make_chunks"
   ]
  },
  {
   "cell_type": "code",
   "execution_count": 2,
   "metadata": {},
   "outputs": [
    {
     "data": {
      "text/html": [
       "<div>\n",
       "<style scoped>\n",
       "    .dataframe tbody tr th:only-of-type {\n",
       "        vertical-align: middle;\n",
       "    }\n",
       "\n",
       "    .dataframe tbody tr th {\n",
       "        vertical-align: top;\n",
       "    }\n",
       "\n",
       "    .dataframe thead th {\n",
       "        text-align: right;\n",
       "    }\n",
       "</style>\n",
       "<table border=\"1\" class=\"dataframe\">\n",
       "  <thead>\n",
       "    <tr style=\"text-align: right;\">\n",
       "      <th></th>\n",
       "      <th>id</th>\n",
       "    </tr>\n",
       "  </thead>\n",
       "  <tbody>\n",
       "    <tr>\n",
       "      <th>0</th>\n",
       "      <td>72827930719432704</td>\n",
       "    </tr>\n",
       "    <tr>\n",
       "      <th>1</th>\n",
       "      <td>73212444264243200</td>\n",
       "    </tr>\n",
       "    <tr>\n",
       "      <th>2</th>\n",
       "      <td>75424812020936704</td>\n",
       "    </tr>\n",
       "    <tr>\n",
       "      <th>3</th>\n",
       "      <td>204144421904723968</td>\n",
       "    </tr>\n",
       "    <tr>\n",
       "      <th>4</th>\n",
       "      <td>204422667850358784</td>\n",
       "    </tr>\n",
       "  </tbody>\n",
       "</table>\n",
       "</div>"
      ],
      "text/plain": [
       "                   id\n",
       "0   72827930719432704\n",
       "1   73212444264243200\n",
       "2   75424812020936704\n",
       "3  204144421904723968\n",
       "4  204422667850358784"
      ]
     },
     "execution_count": 2,
     "metadata": {},
     "output_type": "execute_result"
    }
   ],
   "source": [
    "path_to_tweet_ids = \"../../data/utils/unavailable_tweets.csv\"\n",
    "unavail_tweet_ids = pd.read_csv(path_to_tweet_ids)\n",
    "unavail_tweet_ids.head()"
   ]
  },
  {
   "cell_type": "code",
   "execution_count": 3,
   "metadata": {},
   "outputs": [],
   "source": [
    "api_keys_path = \"../../api_keys.yml\"\n",
    "tweet_scraper = TweetScraper(api_keys_path=api_keys_path, timeout_secs=600)\n",
    "\n",
    "def pull_tweets(tweet_ids, **kwargs):\n",
    "    tweets = []\n",
    "    for chunk in make_chunks(tweet_ids):\n",
    "        _statuses = tweet_scraper.pull_tweets(list(chunk.id), **kwargs)\n",
    "        tweets += [s._json for s  in _statuses]\n",
    "        print(f'Got {len(tweets)} tweets...')\n",
    "    return pd.DataFrame(tweets)"
   ]
  },
  {
   "cell_type": "code",
   "execution_count": 4,
   "metadata": {},
   "outputs": [
    {
     "name": "stdout",
     "output_type": "stream",
     "text": [
      "Fetching rate limit status... \n",
      "{'limit': 300, 'remaining': 0, 'reset': 1590754281}\n",
      "Rate limit reached, sleeping for 176.0\n",
      "Fetching rate limit status... \n",
      "{'limit': 300, 'remaining': 300, 'reset': 1590755182}\n",
      "Got 100 tweets...\n",
      "Got 200 tweets...\n",
      "Got 300 tweets...\n",
      "Got 400 tweets...\n",
      "Got 500 tweets...\n",
      "Got 600 tweets...\n",
      "Got 700 tweets...\n",
      "Got 800 tweets...\n",
      "Got 900 tweets...\n",
      "Got 1000 tweets...\n",
      "Got 1100 tweets...\n",
      "Got 1200 tweets...\n",
      "Got 1300 tweets...\n",
      "Got 1400 tweets...\n",
      "Got 1500 tweets...\n",
      "Got 1600 tweets...\n",
      "Got 1700 tweets...\n",
      "Got 1800 tweets...\n",
      "Got 1900 tweets...\n",
      "Got 2000 tweets...\n",
      "Got 2100 tweets...\n",
      "Got 2200 tweets...\n",
      "Got 2300 tweets...\n",
      "Got 2400 tweets...\n",
      "Got 2500 tweets...\n",
      "Got 2600 tweets...\n",
      "Got 2700 tweets...\n",
      "Got 2800 tweets...\n",
      "Got 2900 tweets...\n",
      "Got 3000 tweets...\n",
      "Got 3100 tweets...\n",
      "Got 3200 tweets...\n",
      "Got 3300 tweets...\n",
      "Got 3400 tweets...\n",
      "Got 3500 tweets...\n",
      "Got 3600 tweets...\n",
      "Got 3700 tweets...\n",
      "Got 3800 tweets...\n",
      "Got 3900 tweets...\n",
      "Got 4000 tweets...\n",
      "Got 4100 tweets...\n",
      "Got 4136 tweets...\n"
     ]
    }
   ],
   "source": [
    "tweets = pull_tweets(unavail_tweet_ids)"
   ]
  },
  {
   "cell_type": "code",
   "execution_count": 17,
   "metadata": {},
   "outputs": [
    {
     "data": {
      "text/plain": [
       "False"
      ]
     },
     "execution_count": 17,
     "metadata": {},
     "output_type": "execute_result"
    }
   ],
   "source": [
    "'id_str' in tweets.columns"
   ]
  },
  {
   "cell_type": "markdown",
   "metadata": {},
   "source": [
    "~**Important note:** Some tweets are incorrectly listed in `data/utils/unavailable_tweets.csv` as unavailable.~\n",
    "\n",
    "~***TODO:*** Double-check if `data/utils/unavailable_tweets.csv` is generated correctly.~ **Done**"
   ]
  },
  {
   "cell_type": "code",
   "execution_count": 18,
   "metadata": {},
   "outputs": [
    {
     "data": {
      "text/plain": [
       "False"
      ]
     },
     "execution_count": 18,
     "metadata": {},
     "output_type": "execute_result"
    }
   ],
   "source": [
    "'full_text' in tweets.columns"
   ]
  },
  {
   "cell_type": "code",
   "execution_count": 19,
   "metadata": {},
   "outputs": [
    {
     "data": {
      "text/plain": [
       "False"
      ]
     },
     "execution_count": 19,
     "metadata": {},
     "output_type": "execute_result"
    }
   ],
   "source": [
    "'text' in tweets.columns"
   ]
  },
  {
   "cell_type": "code",
   "execution_count": 21,
   "metadata": {},
   "outputs": [
    {
     "name": "stdout",
     "output_type": "stream",
     "text": [
      "Fetching rate limit status... \n",
      "{'limit': 300, 'remaining': 300, 'reset': 1590758305}\n",
      "Got 100 tweets...\n",
      "Got 200 tweets...\n",
      "Got 300 tweets...\n",
      "Got 400 tweets...\n",
      "Got 500 tweets...\n",
      "Got 600 tweets...\n",
      "Got 700 tweets...\n",
      "Got 800 tweets...\n",
      "Got 900 tweets...\n",
      "Got 1000 tweets...\n",
      "Got 1100 tweets...\n",
      "Got 1200 tweets...\n",
      "Got 1300 tweets...\n",
      "Got 1400 tweets...\n",
      "Got 1500 tweets...\n",
      "Got 1600 tweets...\n",
      "Got 1700 tweets...\n",
      "Got 1800 tweets...\n",
      "Got 1900 tweets...\n",
      "Got 2000 tweets...\n",
      "Got 2100 tweets...\n",
      "Got 2200 tweets...\n",
      "Got 2300 tweets...\n",
      "Got 2400 tweets...\n",
      "Got 2500 tweets...\n",
      "Got 2600 tweets...\n",
      "Got 2700 tweets...\n",
      "Got 2800 tweets...\n",
      "Got 2900 tweets...\n",
      "Got 3000 tweets...\n",
      "Got 3100 tweets...\n",
      "Got 3200 tweets...\n",
      "Got 3300 tweets...\n",
      "Got 3400 tweets...\n",
      "Got 3500 tweets...\n",
      "Got 3600 tweets...\n",
      "Got 3700 tweets...\n",
      "Got 3800 tweets...\n",
      "Got 3900 tweets...\n",
      "Got 4000 tweets...\n",
      "Got 4100 tweets...\n",
      "Got 4136 tweets...\n"
     ]
    }
   ],
   "source": [
    "tweets_old = pull_tweets(unavail_tweet_ids, tweet_mode='compat')"
   ]
  },
  {
   "cell_type": "code",
   "execution_count": 22,
   "metadata": {},
   "outputs": [
    {
     "data": {
      "text/plain": [
       "False"
      ]
     },
     "execution_count": 22,
     "metadata": {},
     "output_type": "execute_result"
    }
   ],
   "source": [
    "'full_text' in tweets.columns"
   ]
  },
  {
   "cell_type": "code",
   "execution_count": 23,
   "metadata": {},
   "outputs": [
    {
     "data": {
      "text/plain": [
       "False"
      ]
     },
     "execution_count": 23,
     "metadata": {},
     "output_type": "execute_result"
    }
   ],
   "source": [
    "'text' in tweets.columns"
   ]
  }
 ],
 "metadata": {
  "kernelspec": {
   "display_name": "Python 3",
   "language": "python",
   "name": "python3"
  },
  "language_info": {
   "codemirror_mode": {
    "name": "ipython",
    "version": 3
   },
   "file_extension": ".py",
   "mimetype": "text/x-python",
   "name": "python",
   "nbconvert_exporter": "python",
   "pygments_lexer": "ipython3",
   "version": "3.7.5"
  }
 },
 "nbformat": 4,
 "nbformat_minor": 4
}
