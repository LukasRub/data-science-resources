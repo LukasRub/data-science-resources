{
 "cells": [
  {
   "cell_type": "code",
   "execution_count": 5,
   "metadata": {},
   "outputs": [],
   "source": [
    "import autosklearn, catboost, category_encoders, dtreeviz, eli5, \\\n",
    "    fancyimpute, fastai, featuretools, glmnet_python, graphviz, \\\n",
    "    hdbscan, imblearn, janitor, lime, matplotlib, missingno, \\\n",
    "    mlxtend, numpy, pandas, pandas_profiling, pdpbox, phate, \\\n",
    "    pydotplus, rfpimp, scikitplot, scipy, seaborn, shap, sklearn, \\\n",
    "    statsmodels, tpot, treeinterpreter, umap, xgbfir, xgboost, yellowbrick"
   ]
  },
  {
   "cell_type": "code",
   "execution_count": 16,
   "metadata": {},
   "outputs": [],
   "source": [
    "from datetime import datetime\n",
    "\n",
    "def version_check(*args):        \n",
    "    print(f'Last check of last check: {datetime.now()}\\n') \n",
    "    for lib in [autosklearn, catboost, category_encoders, dtreeviz, eli5,\n",
    "                fancyimpute, fastai, featuretools, glmnet_python, graphviz, \n",
    "                hdbscan, imblearn, janitor, lime, matplotlib, missingno, \n",
    "                mlxtend, numpy, pandas, pandas_profiling, pdpbox, phate, \n",
    "                pydotplus, rfpimp, scikitplot, scipy, seaborn, shap, \n",
    "                sklearn, statsmodels, tpot, treeinterpreter, umap, xgbfir, \n",
    "                xgboost, yellowbrick]:\n",
    "        try:\n",
    "            print(lib.__name__, lib.__version__)\n",
    "        except:\n",
    "            print('Missing', lib.__name__)"
   ]
  },
  {
   "cell_type": "code",
   "execution_count": 17,
   "metadata": {},
   "outputs": [
    {
     "name": "stdout",
     "output_type": "stream",
     "text": [
      "Last check of last check: 2020-07-06 17:03:02.306670\n",
      "\n",
      "autosklearn 0.7.0\n",
      "catboost 0.23.2\n",
      "category_encoders 2.2.2\n",
      "Missing dtreeviz\n",
      "eli5 0.10.1\n",
      "fancyimpute 0.5.4\n",
      "fastai 1.0.61\n",
      "featuretools 0.17.0\n",
      "Missing glmnet_python\n",
      "graphviz 0.14\n",
      "Missing hdbscan\n",
      "imblearn 0.7.0\n",
      "janitor 0.20.7\n",
      "Missing lime\n",
      "matplotlib 3.2.2\n",
      "missingno 0.4.2\n",
      "mlxtend 0.17.2\n",
      "numpy 1.18.5\n",
      "pandas 1.0.5\n",
      "pandas_profiling 2.8.0\n",
      "pdpbox 0.2.0\n",
      "phate 1.0.4\n",
      "Missing pydotplus\n",
      "Missing rfpimp\n",
      "scikitplot 0.3.7\n",
      "scipy 1.4.1\n",
      "seaborn 0.10.1\n",
      "shap 0.35.0\n",
      "sklearn 0.23.1\n",
      "statsmodels 0.11.1\n",
      "tpot 0.11.5\n",
      "treeinterpreter 0.1.0\n",
      "umap 0.4.6\n",
      "Missing xgbfir\n",
      "xgboost 1.1.1\n",
      "yellowbrick 1.1\n"
     ]
    }
   ],
   "source": [
    "version_check('2019-07-06')"
   ]
  },
  {
   "cell_type": "code",
   "execution_count": null,
   "metadata": {},
   "outputs": [],
   "source": []
  }
 ],
 "metadata": {
  "kernelspec": {
   "display_name": "Python 3",
   "language": "python",
   "name": "python3"
  },
  "language_info": {
   "codemirror_mode": {
    "name": "ipython",
    "version": 3
   },
   "file_extension": ".py",
   "mimetype": "text/x-python",
   "name": "python",
   "nbconvert_exporter": "python",
   "pygments_lexer": "ipython3",
   "version": "3.7.6"
  }
 },
 "nbformat": 4,
 "nbformat_minor": 4
}
