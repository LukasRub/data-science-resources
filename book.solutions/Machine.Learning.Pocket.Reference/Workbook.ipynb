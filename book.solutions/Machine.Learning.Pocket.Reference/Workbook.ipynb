{
 "cells": [
  {
   "cell_type": "code",
   "execution_count": 1,
   "metadata": {},
   "outputs": [
    {
     "name": "stderr",
     "output_type": "stream",
     "text": [
      "/home/lukas/anaconda3/envs/handsonml/lib/python3.7/site-packages/sklearn/utils/deprecation.py:143: FutureWarning: The sklearn.metrics.classification module is  deprecated in version 0.22 and will be removed in version 0.24. The corresponding classes / functions should instead be imported from sklearn.metrics. Anything that cannot be imported from sklearn.metrics is now part of the private API.\n",
      "  warnings.warn(message, FutureWarning)\n"
     ]
    }
   ],
   "source": [
    "import numpy as np\n",
    "import pandas as pd\n",
    "import matplotlib.pyplot as plt\n",
    "import seaborn as sns\n",
    "\n",
    "from sklearn.metrics import (\n",
    "    auc, \n",
    "    confusion_matrix, \n",
    "    roc_auc_score, \n",
    "    roc_curve,\n",
    ")\n",
    "from sklearn.model_selection import (\n",
    "    train_test_split, \n",
    "    StratifiedKFold,\n",
    ")\n",
    "from sklearn.pipeline import (\n",
    "    Pipeline,\n",
    ")\n",
    "from yellowbrick.classifier import (\n",
    "    ConfusionMatrix, \n",
    "    ROCAUC,\n",
    ")\n",
    "from yellowbrick.model_selection import (\n",
    "    LearningCurve,\n",
    ")"
   ]
  },
  {
   "cell_type": "code",
   "execution_count": 3,
   "metadata": {},
   "outputs": [
    {
     "name": "stdout",
     "output_type": "stream",
     "text": [
      "sklearn 0.23.1\n",
      "pandas 1.0.5\n",
      "numpy 1.18.5\n"
     ]
    }
   ],
   "source": [
    "import sklearn, pandas, numpy\n",
    "for lib in [sklearn, pandas, numpy]:\n",
    "    print(lib.__name__, lib.__version__)"
   ]
  },
  {
   "cell_type": "markdown",
   "metadata": {},
   "source": [
    "### Getting the data"
   ]
  },
  {
   "cell_type": "code",
   "execution_count": 4,
   "metadata": {},
   "outputs": [],
   "source": [
    "url = ('http://biostat.mc.vanderbilt.edu/'\n",
    "       'wiki/pub/Main/DataSets/titanic3.xls')\n",
    "titanic_vandebilt = pd.read_excel(url)"
   ]
  },
  {
   "cell_type": "markdown",
   "metadata": {},
   "source": [
    "### Initial data profiling"
   ]
  },
  {
   "cell_type": "code",
   "execution_count": 5,
   "metadata": {},
   "outputs": [
    {
     "name": "stdout",
     "output_type": "stream",
     "text": [
      "<class 'pandas.core.frame.DataFrame'>\n",
      "RangeIndex: 1309 entries, 0 to 1308\n",
      "Data columns (total 14 columns):\n",
      " #   Column     Non-Null Count  Dtype  \n",
      "---  ------     --------------  -----  \n",
      " 0   pclass     1309 non-null   int64  \n",
      " 1   survived   1309 non-null   int64  \n",
      " 2   name       1309 non-null   object \n",
      " 3   sex        1309 non-null   object \n",
      " 4   age        1046 non-null   float64\n",
      " 5   sibsp      1309 non-null   int64  \n",
      " 6   parch      1309 non-null   int64  \n",
      " 7   ticket     1309 non-null   object \n",
      " 8   fare       1308 non-null   float64\n",
      " 9   cabin      295 non-null    object \n",
      " 10  embarked   1307 non-null   object \n",
      " 11  boat       486 non-null    object \n",
      " 12  body       121 non-null    float64\n",
      " 13  home.dest  745 non-null    object \n",
      "dtypes: float64(3), int64(4), object(7)\n",
      "memory usage: 143.3+ KB\n"
     ]
    }
   ],
   "source": [
    "titanic_vandebilt.info()"
   ]
  },
  {
   "cell_type": "code",
   "execution_count": 6,
   "metadata": {},
   "outputs": [
    {
     "data": {
      "application/vnd.jupyter.widget-view+json": {
       "model_id": "5ee087284981410fbd9dd5d448341231",
       "version_major": 2,
       "version_minor": 0
      },
      "text/plain": [
       "HBox(children=(FloatProgress(value=0.0, description='Summarize dataset', max=28.0, style=ProgressStyle(descrip…"
      ]
     },
     "metadata": {},
     "output_type": "display_data"
    },
    {
     "name": "stdout",
     "output_type": "stream",
     "text": [
      "\n"
     ]
    },
    {
     "data": {
      "application/vnd.jupyter.widget-view+json": {
       "model_id": "ca93b89103d345f6b3ee04c3434d8b97",
       "version_major": 2,
       "version_minor": 0
      },
      "text/plain": [
       "HBox(children=(FloatProgress(value=0.0, description='Generate report structure', max=1.0, style=ProgressStyle(…"
      ]
     },
     "metadata": {},
     "output_type": "display_data"
    },
    {
     "name": "stdout",
     "output_type": "stream",
     "text": [
      "\n"
     ]
    },
    {
     "data": {
      "application/vnd.jupyter.widget-view+json": {
       "model_id": "",
       "version_major": 2,
       "version_minor": 0
      },
      "text/plain": [
       "HBox(children=(FloatProgress(value=0.0, description='Render widgets', max=1.0, style=ProgressStyle(description…"
      ]
     },
     "metadata": {},
     "output_type": "display_data"
    },
    {
     "data": {
      "application/vnd.jupyter.widget-view+json": {
       "model_id": "874b6b563d064191ad202e1f95bbdaa4",
       "version_major": 2,
       "version_minor": 0
      },
      "text/plain": [
       "VBox(children=(Tab(children=(Tab(children=(GridBox(children=(VBox(children=(GridspecLayout(children=(HTML(valu…"
      ]
     },
     "metadata": {},
     "output_type": "display_data"
    }
   ],
   "source": [
    "from pandas_profiling import ProfileReport\n",
    "\n",
    "profile = ProfileReport(titanic_vandebilt, \n",
    "                        title=\"Vanderbilt University Medical Center (VUMC) Titanic dataset\",\n",
    "                        explorative=True)\n",
    "\n",
    "profile.to_widgets()"
   ]
  },
  {
   "cell_type": "code",
   "execution_count": 7,
   "metadata": {},
   "outputs": [
    {
     "data": {
      "text/html": [
       "<div>\n",
       "<style scoped>\n",
       "    .dataframe tbody tr th:only-of-type {\n",
       "        vertical-align: middle;\n",
       "    }\n",
       "\n",
       "    .dataframe tbody tr th {\n",
       "        vertical-align: top;\n",
       "    }\n",
       "\n",
       "    .dataframe thead th {\n",
       "        text-align: right;\n",
       "    }\n",
       "</style>\n",
       "<table border=\"1\" class=\"dataframe\">\n",
       "  <thead>\n",
       "    <tr style=\"text-align: right;\">\n",
       "      <th></th>\n",
       "      <th>pclass</th>\n",
       "      <th>survived</th>\n",
       "      <th>age</th>\n",
       "      <th>sibsp</th>\n",
       "      <th>parch</th>\n",
       "      <th>fare</th>\n",
       "      <th>body</th>\n",
       "    </tr>\n",
       "  </thead>\n",
       "  <tbody>\n",
       "    <tr>\n",
       "      <th>count</th>\n",
       "      <td>1309.000000</td>\n",
       "      <td>1309.000000</td>\n",
       "      <td>1046.000000</td>\n",
       "      <td>1309.000000</td>\n",
       "      <td>1309.000000</td>\n",
       "      <td>1308.000000</td>\n",
       "      <td>121.000000</td>\n",
       "    </tr>\n",
       "    <tr>\n",
       "      <th>mean</th>\n",
       "      <td>2.294882</td>\n",
       "      <td>0.381971</td>\n",
       "      <td>29.881135</td>\n",
       "      <td>0.498854</td>\n",
       "      <td>0.385027</td>\n",
       "      <td>33.295479</td>\n",
       "      <td>160.809917</td>\n",
       "    </tr>\n",
       "    <tr>\n",
       "      <th>std</th>\n",
       "      <td>0.837836</td>\n",
       "      <td>0.486055</td>\n",
       "      <td>14.413500</td>\n",
       "      <td>1.041658</td>\n",
       "      <td>0.865560</td>\n",
       "      <td>51.758668</td>\n",
       "      <td>97.696922</td>\n",
       "    </tr>\n",
       "    <tr>\n",
       "      <th>min</th>\n",
       "      <td>1.000000</td>\n",
       "      <td>0.000000</td>\n",
       "      <td>0.166700</td>\n",
       "      <td>0.000000</td>\n",
       "      <td>0.000000</td>\n",
       "      <td>0.000000</td>\n",
       "      <td>1.000000</td>\n",
       "    </tr>\n",
       "    <tr>\n",
       "      <th>25%</th>\n",
       "      <td>2.000000</td>\n",
       "      <td>0.000000</td>\n",
       "      <td>21.000000</td>\n",
       "      <td>0.000000</td>\n",
       "      <td>0.000000</td>\n",
       "      <td>7.895800</td>\n",
       "      <td>72.000000</td>\n",
       "    </tr>\n",
       "    <tr>\n",
       "      <th>50%</th>\n",
       "      <td>3.000000</td>\n",
       "      <td>0.000000</td>\n",
       "      <td>28.000000</td>\n",
       "      <td>0.000000</td>\n",
       "      <td>0.000000</td>\n",
       "      <td>14.454200</td>\n",
       "      <td>155.000000</td>\n",
       "    </tr>\n",
       "    <tr>\n",
       "      <th>75%</th>\n",
       "      <td>3.000000</td>\n",
       "      <td>1.000000</td>\n",
       "      <td>39.000000</td>\n",
       "      <td>1.000000</td>\n",
       "      <td>0.000000</td>\n",
       "      <td>31.275000</td>\n",
       "      <td>256.000000</td>\n",
       "    </tr>\n",
       "    <tr>\n",
       "      <th>max</th>\n",
       "      <td>3.000000</td>\n",
       "      <td>1.000000</td>\n",
       "      <td>80.000000</td>\n",
       "      <td>8.000000</td>\n",
       "      <td>9.000000</td>\n",
       "      <td>512.329200</td>\n",
       "      <td>328.000000</td>\n",
       "    </tr>\n",
       "  </tbody>\n",
       "</table>\n",
       "</div>"
      ],
      "text/plain": [
       "            pclass     survived          age        sibsp        parch  \\\n",
       "count  1309.000000  1309.000000  1046.000000  1309.000000  1309.000000   \n",
       "mean      2.294882     0.381971    29.881135     0.498854     0.385027   \n",
       "std       0.837836     0.486055    14.413500     1.041658     0.865560   \n",
       "min       1.000000     0.000000     0.166700     0.000000     0.000000   \n",
       "25%       2.000000     0.000000    21.000000     0.000000     0.000000   \n",
       "50%       3.000000     0.000000    28.000000     0.000000     0.000000   \n",
       "75%       3.000000     1.000000    39.000000     1.000000     0.000000   \n",
       "max       3.000000     1.000000    80.000000     8.000000     9.000000   \n",
       "\n",
       "              fare        body  \n",
       "count  1308.000000  121.000000  \n",
       "mean     33.295479  160.809917  \n",
       "std      51.758668   97.696922  \n",
       "min       0.000000    1.000000  \n",
       "25%       7.895800   72.000000  \n",
       "50%      14.454200  155.000000  \n",
       "75%      31.275000  256.000000  \n",
       "max     512.329200  328.000000  "
      ]
     },
     "execution_count": 7,
     "metadata": {},
     "output_type": "execute_result"
    }
   ],
   "source": [
    "titanic = titanic_vandebilt.copy()\n",
    "\n",
    "titanic.describe()"
   ]
  },
  {
   "cell_type": "markdown",
   "metadata": {},
   "source": [
    "### Exploring missing values"
   ]
  },
  {
   "cell_type": "code",
   "execution_count": 8,
   "metadata": {},
   "outputs": [
    {
     "data": {
      "text/plain": [
       "body         1188\n",
       "cabin        1014\n",
       "boat          823\n",
       "home.dest     564\n",
       "age           263\n",
       "embarked        2\n",
       "fare            1\n",
       "ticket          0\n",
       "parch           0\n",
       "sibsp           0\n",
       "sex             0\n",
       "name            0\n",
       "survived        0\n",
       "pclass          0\n",
       "dtype: int64"
      ]
     },
     "execution_count": 8,
     "metadata": {},
     "output_type": "execute_result"
    }
   ],
   "source": [
    "# Missing data in each collumn\n",
    "titanic.isnull().sum().sort_values(ascending=False)"
   ]
  },
  {
   "cell_type": "code",
   "execution_count": 9,
   "metadata": {},
   "outputs": [
    {
     "data": {
      "text/plain": [
       "body         0.907563\n",
       "cabin        0.774637\n",
       "boat         0.628724\n",
       "home.dest    0.430863\n",
       "age          0.200917\n",
       "embarked     0.001528\n",
       "fare         0.000764\n",
       "ticket       0.000000\n",
       "parch        0.000000\n",
       "sibsp        0.000000\n",
       "sex          0.000000\n",
       "name         0.000000\n",
       "survived     0.000000\n",
       "pclass       0.000000\n",
       "dtype: float64"
      ]
     },
     "execution_count": 9,
     "metadata": {},
     "output_type": "execute_result"
    }
   ],
   "source": [
    "# Percentage of missing values in each collumn\n",
    "titanic.isnull().mean().sort_values(ascending=False)"
   ]
  },
  {
   "cell_type": "code",
   "execution_count": 10,
   "metadata": {},
   "outputs": [
    {
     "data": {
      "text/plain": [
       "0    True\n",
       "1    True\n",
       "2    True\n",
       "3    True\n",
       "4    True\n",
       "dtype: bool"
      ]
     },
     "execution_count": 10,
     "metadata": {},
     "output_type": "execute_result"
    }
   ],
   "source": [
    "# Mask that will of use later \n",
    "rows_with_nans = titanic.isnull().any(axis='columns')\n",
    "rows_with_nans.head()"
   ]
  },
  {
   "cell_type": "code",
   "execution_count": 11,
   "metadata": {},
   "outputs": [
    {
     "data": {
      "text/plain": [
       "S      914\n",
       "C      270\n",
       "Q      123\n",
       "NaN      2\n",
       "Name: embarked, dtype: int64"
      ]
     },
     "execution_count": 11,
     "metadata": {},
     "output_type": "execute_result"
    }
   ],
   "source": [
    "titanic.embarked.value_counts(dropna=False)"
   ]
  },
  {
   "cell_type": "markdown",
   "metadata": {},
   "source": [
    "We could see from `pandas_profiling` report that **pclass** and **sex** are categorical features with no missing values. However **embarked** (Point of embarktion) has two missing values. We could deal with these missing values in several ways:\n",
    "1. We could impute them with the most common value of this feature.\n",
    "2. We could drop these two values\n",
    "3. We could ignore them and let `pd.get_dummies()` encode them as all-zeroes.\n",
    "The latter approach could be used with **cabin** as it is also categorical (although with high cardinality)"
   ]
  },
  {
   "cell_type": "markdown",
   "metadata": {},
   "source": [
    "### Dropping (seemingly) uninformative or *leaky* columns"
   ]
  },
  {
   "cell_type": "code",
   "execution_count": 12,
   "metadata": {},
   "outputs": [],
   "source": [
    "# For extracting titles later in the analysis\n",
    "passanger_names = titanic.name\n",
    "\n",
    "columns = [\n",
    "    'name',\n",
    "    'ticket',\n",
    "    'home.dest',\n",
    "    'boat', \n",
    "    'body',\n",
    "    'cabin'\n",
    "]\n",
    "\n",
    "titanic = titanic.drop(columns=columns)"
   ]
  },
  {
   "cell_type": "markdown",
   "metadata": {},
   "source": [
    "1. **name** - Unless we perform some kind of NLP and external analysis like what were the most common names for upper-class individuals (that we assume would buy more expensive tickets on the higher decks and thus more likely to reach the rescue boats faster, we will not be able to fully take advantage of this column. We will use it to extract titles in hopes of determining their status though.\n",
    "2. **ticket** - External analysis could be used to determine which cabins (with their proximity to the main deck/rescue boats) were purchased last, or whether the ticket the passanger bought were in the lower levels that would make the evacuation harder. We will not be doing that analysis at this time.\n",
    "3. **home.dest** - Could be used similarly like the **ticket** column as described above.\n",
    "4. **boat** - *Leaky* feature that indicates that the passanger was on a rescue boat.\n",
    "5. **body** - *Leaky* feature that indicates that the passanger's body was found.\n",
    "6. **cabin** - Could be used to determine the proximity to rescue boats but will not be used this analysis' current form due to a lot of missing values."
   ]
  },
  {
   "cell_type": "markdown",
   "metadata": {},
   "source": [
    "### Creating dummy columns"
   ]
  },
  {
   "cell_type": "code",
   "execution_count": 13,
   "metadata": {},
   "outputs": [
    {
     "data": {
      "text/plain": [
       "Index(['pclass', 'survived', 'age', 'sibsp', 'parch', 'fare', 'sex_female',\n",
       "       'embarked_C', 'embarked_Q', 'embarked_S'],\n",
       "      dtype='object')"
      ]
     },
     "execution_count": 13,
     "metadata": {},
     "output_type": "execute_result"
    }
   ],
   "source": [
    "titanic = pd.get_dummies(titanic).drop(columns='sex_male')\n",
    "\n",
    "titanic.columns"
   ]
  },
  {
   "cell_type": "code",
   "execution_count": 14,
   "metadata": {},
   "outputs": [],
   "source": [
    "import janitor\n",
    "\n",
    "X, y = janitor.ml.get_features_targets(titanic, target_columns='survived')"
   ]
  },
  {
   "cell_type": "markdown",
   "metadata": {},
   "source": [
    "### Creating train and test sets"
   ]
  },
  {
   "cell_type": "code",
   "execution_count": 15,
   "metadata": {},
   "outputs": [],
   "source": [
    "def passenger_gender_proportions(data):\n",
    "    return data.sex_female.sum() / len(data)\n",
    "\n",
    "# Try train_test_split with/without stratify option\n",
    "def try_out_statify_param(stratify=False, **kwargs):\n",
    "    if not hasattr(kwargs, 'test_size'):\n",
    "        kwargs['test_size'] = 0.2\n",
    "    if not hasattr(kwargs, 'random_state'):\n",
    "        kwargs['random_state'] = 42\n",
    "    kwargs['stratify'] = X.sex_female if stratify is True else None\n",
    "    \n",
    "    return train_test_split(X, y, **kwargs)"
   ]
  },
  {
   "cell_type": "code",
   "execution_count": 16,
   "metadata": {},
   "outputs": [],
   "source": [
    "(_, X_test_strat, _, _) = try_out_statify_param(stratify=True)\n",
    "(_, X_test_rand, _, _) = try_out_statify_param(stratify=False)"
   ]
  },
  {
   "cell_type": "code",
   "execution_count": 17,
   "metadata": {},
   "outputs": [],
   "source": [
    "# For comparing gender proportions in two ways of test-train dataset splitting:\n",
    "gender_props = pd.Series(dtype=np.float64, name='Proportions of female passengers')\n",
    "\n",
    "gender_props['overall'] = passenger_gender_proportions(titanic)\n",
    "gender_props['random_w/_stratifying'] = passenger_gender_proportions(X_test_strat)\n",
    "gender_props['random_w/o_stratifying'] = passenger_gender_proportions(X_test_rand)"
   ]
  },
  {
   "cell_type": "code",
   "execution_count": 73,
   "metadata": {},
   "outputs": [],
   "source": [
    "rc = {\n",
    "    'axes.grid': False,\n",
    "    'axes.edgecolor': 'grey',\n",
    "    'axes.spines.top': False,\n",
    "    'axes.spines.right': False,\n",
    "    'axes.spines.left': False,\n",
    "    'xtick.color': 'grey',\n",
    "    'xtick.labelsize': 'small',\n",
    "    'xtick.bottom': True,\n",
    "    'xtick.major.size': 2.5,\n",
    "    'ytick.color': 'grey',\n",
    "    'ytick.major.size': 2.5,\n",
    "    'ytick.left': False,\n",
    "}\n",
    "\n",
    "sns.set(style='whitegrid', rc=rc)"
   ]
  },
  {
   "cell_type": "code",
   "execution_count": 57,
   "metadata": {},
   "outputs": [
    {
     "data": {
      "image/png": "[encoded data removed]",
      "text/plain": [
       "<Figure size 936x864 with 3 Axes>"
      ]
     },
     "metadata": {},
     "output_type": "display_data"
    }
   ],
   "source": [
    "fig = plt.figure(figsize=(13, 12))\n",
    "gs = fig.add_gridspec(3, 1)\n",
    "\n",
    "ax = [fig.add_subplot(gs[0])]\n",
    "for i in range(gs.nrows):\n",
    "    if i > 0:\n",
    "        ax.append(fig.add_subplot(gs[i], sharex=ax[0]))\n",
    "    plt.setp(ax[i].xaxis.get_label(), visible=False)\n",
    "    plt.setp(ax[i].yaxis.get_label(), visible=False)\n",
    "    \n",
    "data_sets = [titanic,  X_test_strat, X_test_rand]\n",
    "titles = ['Overall passenger gender balance', \n",
    "          'Test set gender balance w/ stratifying', \n",
    "          'Test set gender balance w/o stratifying']\n",
    "palette = sns.color_palette(['#5F4B8BFF', '#E69A8DFF'])\n",
    "\n",
    "for data, ax, title, proportion in zip(data_sets, ax, titles, gender_props.values):\n",
    "    sns.barplot(x='sex_female', y='sex_female', data=data, ax=ax, orient='horizontal',\n",
    "                palette=palette,\n",
    "                estimator=lambda x: len(x) / len(data) * 100)\n",
    "    \n",
    "    ax.set_title(title, pad=10)\n",
    "    ax.axvline(x=proportion*100, ls='-.', lw=1.5, color='black')\n",
    "    ax.annotate(f'Female passenger ratio: {proportion}' ,\n",
    "                xy=(0.58, 0.075), xycoords='axes fraction', fontsize='small')\n",
    "    ax.set_yticklabels(['Male (%)', 'Female (%)'])\n",
    "    ax.set_xticks(np.arange(0,70,5))\n",
    "    ax.set_xlim([0, 65])\n",
    "\n",
    "gs.tight_layout(fig)\n",
    "plt.show()"
   ]
  },
  {
   "cell_type": "code",
   "execution_count": 19,
   "metadata": {},
   "outputs": [],
   "source": [
    "gender_props['strat_%_error'] = 100 * gender_props['random_w/_stratifying'] / gender_props['overall'] - 100\n",
    "gender_props['rand_%_error'] = 100 * gender_props['random_w/o_stratifying'] / gender_props['overall'] - 100"
   ]
  },
  {
   "cell_type": "code",
   "execution_count": 20,
   "metadata": {},
   "outputs": [
    {
     "data": {
      "text/plain": [
       "overall                   0.355997\n",
       "random_w/_stratifying     0.354962\n",
       "random_w/o_stratifying    0.366412\n",
       "strat_%_error            -0.290764\n",
       "rand_%_error              2.925663\n",
       "Name: Proportions of female passengers, dtype: float64"
      ]
     },
     "execution_count": 20,
     "metadata": {},
     "output_type": "execute_result"
    }
   ],
   "source": [
    "gender_props"
   ]
  },
  {
   "cell_type": "markdown",
   "metadata": {},
   "source": [
    "Since the difference in female passenger proportions is around 3 times larger if we used completely random sampling for our test set instead of stratifying based on gender, we will use `test_train_split` with stratifying. Notice that the value of stratification of the test set diminishes as we increase the test set size."
   ]
  },
  {
   "cell_type": "code",
   "execution_count": 45,
   "metadata": {},
   "outputs": [],
   "source": [
    "X_train, X_test, y_train, y_test = try_out_statify_param(stratify=True)"
   ]
  },
  {
   "cell_type": "markdown",
   "metadata": {},
   "source": [
    "### Imputing Data"
   ]
  },
  {
   "cell_type": "code",
   "execution_count": 52,
   "metadata": {},
   "outputs": [],
   "source": [
    "from sklearn.experimental import enable_iterative_imputer\n",
    "from sklearn.impute import IterativeImputer\n",
    "\n",
    "# Dataframe of numerical columns of X_train\n",
    "X_train_num = X_train.select_dtypes(include=[np.number])\n",
    "\n",
    "imputer = IterativeImputer()\n",
    "imputed_train_num = imputer.fit_transform(X_train_num)\n",
    "imputed_test_num = imputer.transform(X_test[X_train_num.columns])"
   ]
  },
  {
   "cell_type": "code",
   "execution_count": 51,
   "metadata": {},
   "outputs": [
    {
     "data": {
      "text/plain": [
       "pclass        False\n",
       "age            True\n",
       "sibsp         False\n",
       "parch         False\n",
       "fare           True\n",
       "sex_female    False\n",
       "embarked_C    False\n",
       "embarked_Q    False\n",
       "embarked_S    False\n",
       "dtype: bool"
      ]
     },
     "execution_count": 51,
     "metadata": {},
     "output_type": "execute_result"
    }
   ],
   "source": [
    "X_train_num.isna().any()"
   ]
  },
  {
   "cell_type": "markdown",
   "metadata": {},
   "source": [
    "As we can see the only two numerical columns with missing values were **age** and **fare**. We can check if imputation was successful."
   ]
  },
  {
   "cell_type": "code",
   "execution_count": 172,
   "metadata": {},
   "outputs": [
    {
     "data": {
      "text/plain": [
       "pclass        False\n",
       "age           False\n",
       "sibsp         False\n",
       "parch         False\n",
       "fare          False\n",
       "sex_female    False\n",
       "embarked_C    False\n",
       "embarked_Q    False\n",
       "embarked_S    False\n",
       "dtype: bool"
      ]
     },
     "execution_count": 172,
     "metadata": {},
     "output_type": "execute_result"
    }
   ],
   "source": [
    "X_train_num_imputed = pd.DataFrame(imputed_train_num, \n",
    "                                   columns=X_train_num.columns, \n",
    "                                   index=X_train_num.index)\n",
    "X_train_num_imputed.isna().any()"
   ]
  },
  {
   "cell_type": "markdown",
   "metadata": {},
   "source": [
    "After data imputation, no numerical columns are missing. We might want to see which feature vectors required these imputations."
   ]
  },
  {
   "cell_type": "code",
   "execution_count": 173,
   "metadata": {},
   "outputs": [],
   "source": [
    "missing_fare_ix = X_train_num[X_train_num.fare.isnull()].index\n",
    "missing_age_ix = X_train_num[X_train_num.age.isnull()].index"
   ]
  },
  {
   "cell_type": "code",
   "execution_count": 187,
   "metadata": {},
   "outputs": [
    {
     "data": {
      "image/png": "[encoded data removed]",
      "text/plain": [
       "<Figure size 936x864 with 4 Axes>"
      ]
     },
     "metadata": {},
     "output_type": "display_data"
    }
   ],
   "source": [
    "rc.update({\n",
    "    'axes.spines.left': True,\n",
    "    'ytick.left': True,\n",
    "})\n",
    "\n",
    "sns.set(style='whitegrid', rc=rc)\n",
    "\n",
    "fig = plt.figure(figsize=(13,12))\n",
    "gs = fig.add_gridspec(2, 2)\n",
    "\n",
    "axes = []\n",
    "for row in range(gs.nrows):\n",
    "    axes_col = []\n",
    "    for col in range(gs.ncols):\n",
    "        if col == 0:\n",
    "            ax = fig.add_subplot(gs[row,col])\n",
    "        else:\n",
    "            ax = fig.add_subplot(gs[row,col], sharey=axes_col[0])\n",
    "        plt.setp(ax.yaxis.get_label(), visible=False)\n",
    "        axes_col.append(ax)\n",
    "    axes.append(axes_col)\n",
    "\n",
    "\n",
    "hist_kws=dict(alpha=1)\n",
    "\n",
    "# Plotting imputed age data\n",
    "titles = ['Age distribution after applying IterativeImputer', \n",
    "          'Age distribution before applying IterativeImputer']\n",
    "for data, title, ax in zip([X_train_num_imputed, X_train_num], titles, axes[:][0]):\n",
    "    sns.distplot(data['age'], kde=False, bins=40, \n",
    "                 color=palette[1], hist_kws=hist_kws, ax=ax)\n",
    "    ax.set_title(title, pad=10)\n",
    "    ax.set_xlabel('Age')\n",
    "    \n",
    "    \n",
    "# Plotting imputed fare data\n",
    "titles = ['Fare distribution after applying IterativeImputer', \n",
    "          'Fare distribution before applying IterativeImputer']\n",
    "for data, title, ax in zip([X_train_num_imputed, X_train_num], titles, axes[:][1]):\n",
    "    sns.distplot(data['fare'], kde=False, bins=30, \n",
    "                 color=palette[1], hist_kws=hist_kws, ax=ax)\n",
    "    ax.set_title(title, pad=10)\n",
    "    ax.set_xlabel('Fare (unknown currency)')\n",
    "    \n",
    "gs.tight_layout(fig)\n",
    "plt.show()"
   ]
  },
  {
   "cell_type": "markdown",
   "metadata": {},
   "source": [
    "We can see that **age** feature histogram has visible changes after performing data imputation, but **fare** histogram is virtually identical. We can confirm that the imputation is still working by highlighting (or remembering, from `pandas_profiling` observations) the fact that only one **fare** value needed to be imputed, thus it's likely it's not observable in the histogram comparison."
   ]
  },
  {
   "cell_type": "code",
   "execution_count": 189,
   "metadata": {},
   "outputs": [
    {
     "data": {
      "text/html": [
       "<div>\n",
       "<style scoped>\n",
       "    .dataframe tbody tr th:only-of-type {\n",
       "        vertical-align: middle;\n",
       "    }\n",
       "\n",
       "    .dataframe tbody tr th {\n",
       "        vertical-align: top;\n",
       "    }\n",
       "\n",
       "    .dataframe thead th {\n",
       "        text-align: right;\n",
       "    }\n",
       "</style>\n",
       "<table border=\"1\" class=\"dataframe\">\n",
       "  <thead>\n",
       "    <tr style=\"text-align: right;\">\n",
       "      <th></th>\n",
       "      <th>pclass</th>\n",
       "      <th>age</th>\n",
       "      <th>sibsp</th>\n",
       "      <th>parch</th>\n",
       "      <th>fare</th>\n",
       "      <th>sex_female</th>\n",
       "      <th>embarked_C</th>\n",
       "      <th>embarked_Q</th>\n",
       "      <th>embarked_S</th>\n",
       "    </tr>\n",
       "  </thead>\n",
       "  <tbody>\n",
       "    <tr>\n",
       "      <th>1225</th>\n",
       "      <td>3.0</td>\n",
       "      <td>60.5</td>\n",
       "      <td>0.0</td>\n",
       "      <td>0.0</td>\n",
       "      <td>0.025319</td>\n",
       "      <td>0.0</td>\n",
       "      <td>0.0</td>\n",
       "      <td>0.0</td>\n",
       "      <td>1.0</td>\n",
       "    </tr>\n",
       "  </tbody>\n",
       "</table>\n",
       "</div>"
      ],
      "text/plain": [
       "      pclass   age  sibsp  parch      fare  sex_female  embarked_C  \\\n",
       "1225     3.0  60.5    0.0    0.0  0.025319         0.0         0.0   \n",
       "\n",
       "      embarked_Q  embarked_S  \n",
       "1225         0.0         1.0  "
      ]
     },
     "execution_count": 189,
     "metadata": {},
     "output_type": "execute_result"
    }
   ],
   "source": [
    "X_train_num_imputed.loc[missing_fare_ix]"
   ]
  },
  {
   "cell_type": "code",
   "execution_count": 191,
   "metadata": {},
   "outputs": [
    {
     "data": {
      "text/plain": [
       "count    1046.000000\n",
       "mean       32.410726\n",
       "std        49.447980\n",
       "min         0.000000\n",
       "25%         7.895800\n",
       "50%        14.400000\n",
       "75%        30.500000\n",
       "max       512.329200\n",
       "Name: fare, dtype: float64"
      ]
     },
     "execution_count": 191,
     "metadata": {},
     "output_type": "execute_result"
    }
   ],
   "source": [
    "X_train_num.fare.describe()"
   ]
  },
  {
   "cell_type": "markdown",
   "metadata": {},
   "source": [
    "The imputed **fare** value is far below the 25% quantile.\n",
    "\n",
    "We might be interested to visualize the imputed values from the chart above on top of non-imputed values to better grasp the scale and impact."
   ]
  },
  {
   "cell_type": "code",
   "execution_count": 198,
   "metadata": {},
   "outputs": [],
   "source": [
    "age_imputed = X_train_num_imputed.copy()\n",
    "age_imputed['age_imputed'] = False\n",
    "age_imputed.loc[missing_age_ix, 'age_imputed'] = True\n",
    "\n",
    "fare_imputed = X_train_num_imputed.copy()\n",
    "fare_imputed['fare_imputed'] = False\n",
    "fare_imputed.loc[missing_fare_ix, 'fare_imputed'] = True"
   ]
  },
  {
   "cell_type": "code",
   "execution_count": 204,
   "metadata": {},
   "outputs": [
    {
     "data": {
      "text/plain": [
       "<matplotlib.axes._subplots.AxesSubplot at 0x7f3e8aec4510>"
      ]
     },
     "execution_count": 204,
     "metadata": {},
     "output_type": "execute_result"
    },
    {
     "data": {
      "image/png": "[encoded data removed]",
      "text/plain": [
       "<Figure size 576x396 with 1 Axes>"
      ]
     },
     "metadata": {},
     "output_type": "display_data"
    }
   ],
   "source": [
    "sns.barplot()"
   ]
  },
  {
   "cell_type": "code",
   "execution_count": null,
   "metadata": {},
   "outputs": [],
   "source": []
  }
 ],
 "metadata": {
  "kernelspec": {
   "display_name": "Python 3",
   "language": "python",
   "name": "python3"
  },
  "language_info": {
   "codemirror_mode": {
    "name": "ipython",
    "version": 3
   },
   "file_extension": ".py",
   "mimetype": "text/x-python",
   "name": "python",
   "nbconvert_exporter": "python",
   "pygments_lexer": "ipython3",
   "version": "3.7.6"
  }
 },
 "nbformat": 4,
 "nbformat_minor": 2
}
