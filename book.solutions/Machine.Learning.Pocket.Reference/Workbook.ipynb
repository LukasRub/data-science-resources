{
 "cells": [
  {
   "cell_type": "code",
   "execution_count": 1,
   "metadata": {},
   "outputs": [
    {
     "name": "stderr",
     "output_type": "stream",
     "text": [
      "/home/lukas/anaconda3/envs/handsonml/lib/python3.7/site-packages/sklearn/utils/deprecation.py:143: FutureWarning: The sklearn.metrics.classification module is  deprecated in version 0.22 and will be removed in version 0.24. The corresponding classes / functions should instead be imported from sklearn.metrics. Anything that cannot be imported from sklearn.metrics is now part of the private API.\n",
      "  warnings.warn(message, FutureWarning)\n"
     ]
    }
   ],
   "source": [
    "import numpy as np\n",
    "import pandas as pd\n",
    "import matplotlib.pyplot as plt\n",
    "import seaborn as sns\n",
    "\n",
    "from sklearn.metrics import (\n",
    "    auc, \n",
    "    confusion_matrix, \n",
    "    roc_auc_score, \n",
    "    roc_curve,\n",
    ")\n",
    "from sklearn.model_selection import (\n",
    "    train_test_split, \n",
    "    StratifiedKFold,\n",
    "    KFold,\n",
    "    cross_val_score,\n",
    ")\n",
    "from sklearn.pipeline import (\n",
    "    Pipeline,\n",
    ")\n",
    "from yellowbrick.classifier import (\n",
    "    ConfusionMatrix, \n",
    "    ROCAUC,\n",
    ")\n",
    "from yellowbrick.model_selection import (\n",
    "    LearningCurve,\n",
    ")"
   ]
  },
  {
   "cell_type": "code",
   "execution_count": 2,
   "metadata": {},
   "outputs": [
    {
     "name": "stdout",
     "output_type": "stream",
     "text": [
      "sklearn 0.23.1\n",
      "pandas 1.0.5\n",
      "numpy 1.18.5\n"
     ]
    }
   ],
   "source": [
    "import sklearn, pandas, numpy\n",
    "for lib in [sklearn, pandas, numpy]:\n",
    "    print(lib.__name__, lib.__version__)"
   ]
  },
  {
   "cell_type": "markdown",
   "metadata": {},
   "source": [
    "### Getting the data"
   ]
  },
  {
   "cell_type": "code",
   "execution_count": 3,
   "metadata": {},
   "outputs": [],
   "source": [
    "url = ('http://biostat.mc.vanderbilt.edu/'\n",
    "       'wiki/pub/Main/DataSets/titanic3.xls')\n",
    "titanic_vandebilt = pd.read_excel(url)"
   ]
  },
  {
   "cell_type": "markdown",
   "metadata": {},
   "source": [
    "### Initial data profiling"
   ]
  },
  {
   "cell_type": "code",
   "execution_count": 4,
   "metadata": {},
   "outputs": [
    {
     "name": "stdout",
     "output_type": "stream",
     "text": [
      "<class 'pandas.core.frame.DataFrame'>\n",
      "RangeIndex: 1309 entries, 0 to 1308\n",
      "Data columns (total 14 columns):\n",
      " #   Column     Non-Null Count  Dtype  \n",
      "---  ------     --------------  -----  \n",
      " 0   pclass     1309 non-null   int64  \n",
      " 1   survived   1309 non-null   int64  \n",
      " 2   name       1309 non-null   object \n",
      " 3   sex        1309 non-null   object \n",
      " 4   age        1046 non-null   float64\n",
      " 5   sibsp      1309 non-null   int64  \n",
      " 6   parch      1309 non-null   int64  \n",
      " 7   ticket     1309 non-null   object \n",
      " 8   fare       1308 non-null   float64\n",
      " 9   cabin      295 non-null    object \n",
      " 10  embarked   1307 non-null   object \n",
      " 11  boat       486 non-null    object \n",
      " 12  body       121 non-null    float64\n",
      " 13  home.dest  745 non-null    object \n",
      "dtypes: float64(3), int64(4), object(7)\n",
      "memory usage: 143.3+ KB\n"
     ]
    }
   ],
   "source": [
    "titanic_vandebilt.info()"
   ]
  },
  {
   "cell_type": "code",
   "execution_count": 5,
   "metadata": {},
   "outputs": [
    {
     "data": {
      "application/vnd.jupyter.widget-view+json": {
       "model_id": "e7579fc69c264724b05f6974f3b68632",
       "version_major": 2,
       "version_minor": 0
      },
      "text/plain": [
       "HBox(children=(FloatProgress(value=0.0, description='Summarize dataset', max=28.0, style=ProgressStyle(descrip…"
      ]
     },
     "metadata": {},
     "output_type": "display_data"
    },
    {
     "name": "stdout",
     "output_type": "stream",
     "text": [
      "\n"
     ]
    },
    {
     "data": {
      "application/vnd.jupyter.widget-view+json": {
       "model_id": "7acfa32b17bd4cb2b1e08a8701e86e85",
       "version_major": 2,
       "version_minor": 0
      },
      "text/plain": [
       "HBox(children=(FloatProgress(value=0.0, description='Generate report structure', max=1.0, style=ProgressStyle(…"
      ]
     },
     "metadata": {},
     "output_type": "display_data"
    },
    {
     "name": "stdout",
     "output_type": "stream",
     "text": [
      "\n"
     ]
    },
    {
     "data": {
      "application/vnd.jupyter.widget-view+json": {
       "model_id": "",
       "version_major": 2,
       "version_minor": 0
      },
      "text/plain": [
       "HBox(children=(FloatProgress(value=0.0, description='Render widgets', max=1.0, style=ProgressStyle(description…"
      ]
     },
     "metadata": {},
     "output_type": "display_data"
    },
    {
     "data": {
      "application/vnd.jupyter.widget-view+json": {
       "model_id": "2b87f726f2c643ddbc6e6b029d05a65a",
       "version_major": 2,
       "version_minor": 0
      },
      "text/plain": [
       "VBox(children=(Tab(children=(Tab(children=(GridBox(children=(VBox(children=(GridspecLayout(children=(HTML(valu…"
      ]
     },
     "metadata": {},
     "output_type": "display_data"
    }
   ],
   "source": [
    "from pandas_profiling import ProfileReport\n",
    "\n",
    "profile = ProfileReport(titanic_vandebilt, \n",
    "                        title=\"Vanderbilt University Medical Center (VUMC) Titanic dataset\",\n",
    "                        explorative=True)\n",
    "\n",
    "profile.to_widgets()"
   ]
  },
  {
   "cell_type": "code",
   "execution_count": 6,
   "metadata": {},
   "outputs": [
    {
     "data": {
      "text/html": [
       "<div>\n",
       "<style scoped>\n",
       "    .dataframe tbody tr th:only-of-type {\n",
       "        vertical-align: middle;\n",
       "    }\n",
       "\n",
       "    .dataframe tbody tr th {\n",
       "        vertical-align: top;\n",
       "    }\n",
       "\n",
       "    .dataframe thead th {\n",
       "        text-align: right;\n",
       "    }\n",
       "</style>\n",
       "<table border=\"1\" class=\"dataframe\">\n",
       "  <thead>\n",
       "    <tr style=\"text-align: right;\">\n",
       "      <th></th>\n",
       "      <th>pclass</th>\n",
       "      <th>survived</th>\n",
       "      <th>age</th>\n",
       "      <th>sibsp</th>\n",
       "      <th>parch</th>\n",
       "      <th>fare</th>\n",
       "      <th>body</th>\n",
       "    </tr>\n",
       "  </thead>\n",
       "  <tbody>\n",
       "    <tr>\n",
       "      <th>count</th>\n",
       "      <td>1309.000000</td>\n",
       "      <td>1309.000000</td>\n",
       "      <td>1046.000000</td>\n",
       "      <td>1309.000000</td>\n",
       "      <td>1309.000000</td>\n",
       "      <td>1308.000000</td>\n",
       "      <td>121.000000</td>\n",
       "    </tr>\n",
       "    <tr>\n",
       "      <th>mean</th>\n",
       "      <td>2.294882</td>\n",
       "      <td>0.381971</td>\n",
       "      <td>29.881135</td>\n",
       "      <td>0.498854</td>\n",
       "      <td>0.385027</td>\n",
       "      <td>33.295479</td>\n",
       "      <td>160.809917</td>\n",
       "    </tr>\n",
       "    <tr>\n",
       "      <th>std</th>\n",
       "      <td>0.837836</td>\n",
       "      <td>0.486055</td>\n",
       "      <td>14.413500</td>\n",
       "      <td>1.041658</td>\n",
       "      <td>0.865560</td>\n",
       "      <td>51.758668</td>\n",
       "      <td>97.696922</td>\n",
       "    </tr>\n",
       "    <tr>\n",
       "      <th>min</th>\n",
       "      <td>1.000000</td>\n",
       "      <td>0.000000</td>\n",
       "      <td>0.166700</td>\n",
       "      <td>0.000000</td>\n",
       "      <td>0.000000</td>\n",
       "      <td>0.000000</td>\n",
       "      <td>1.000000</td>\n",
       "    </tr>\n",
       "    <tr>\n",
       "      <th>25%</th>\n",
       "      <td>2.000000</td>\n",
       "      <td>0.000000</td>\n",
       "      <td>21.000000</td>\n",
       "      <td>0.000000</td>\n",
       "      <td>0.000000</td>\n",
       "      <td>7.895800</td>\n",
       "      <td>72.000000</td>\n",
       "    </tr>\n",
       "    <tr>\n",
       "      <th>50%</th>\n",
       "      <td>3.000000</td>\n",
       "      <td>0.000000</td>\n",
       "      <td>28.000000</td>\n",
       "      <td>0.000000</td>\n",
       "      <td>0.000000</td>\n",
       "      <td>14.454200</td>\n",
       "      <td>155.000000</td>\n",
       "    </tr>\n",
       "    <tr>\n",
       "      <th>75%</th>\n",
       "      <td>3.000000</td>\n",
       "      <td>1.000000</td>\n",
       "      <td>39.000000</td>\n",
       "      <td>1.000000</td>\n",
       "      <td>0.000000</td>\n",
       "      <td>31.275000</td>\n",
       "      <td>256.000000</td>\n",
       "    </tr>\n",
       "    <tr>\n",
       "      <th>max</th>\n",
       "      <td>3.000000</td>\n",
       "      <td>1.000000</td>\n",
       "      <td>80.000000</td>\n",
       "      <td>8.000000</td>\n",
       "      <td>9.000000</td>\n",
       "      <td>512.329200</td>\n",
       "      <td>328.000000</td>\n",
       "    </tr>\n",
       "  </tbody>\n",
       "</table>\n",
       "</div>"
      ],
      "text/plain": [
       "            pclass     survived          age        sibsp        parch  \\\n",
       "count  1309.000000  1309.000000  1046.000000  1309.000000  1309.000000   \n",
       "mean      2.294882     0.381971    29.881135     0.498854     0.385027   \n",
       "std       0.837836     0.486055    14.413500     1.041658     0.865560   \n",
       "min       1.000000     0.000000     0.166700     0.000000     0.000000   \n",
       "25%       2.000000     0.000000    21.000000     0.000000     0.000000   \n",
       "50%       3.000000     0.000000    28.000000     0.000000     0.000000   \n",
       "75%       3.000000     1.000000    39.000000     1.000000     0.000000   \n",
       "max       3.000000     1.000000    80.000000     8.000000     9.000000   \n",
       "\n",
       "              fare        body  \n",
       "count  1308.000000  121.000000  \n",
       "mean     33.295479  160.809917  \n",
       "std      51.758668   97.696922  \n",
       "min       0.000000    1.000000  \n",
       "25%       7.895800   72.000000  \n",
       "50%      14.454200  155.000000  \n",
       "75%      31.275000  256.000000  \n",
       "max     512.329200  328.000000  "
      ]
     },
     "execution_count": 6,
     "metadata": {},
     "output_type": "execute_result"
    }
   ],
   "source": [
    "titanic = titanic_vandebilt.copy()\n",
    "\n",
    "titanic.describe()"
   ]
  },
  {
   "cell_type": "markdown",
   "metadata": {},
   "source": [
    "### Exploring missing values"
   ]
  },
  {
   "cell_type": "code",
   "execution_count": 7,
   "metadata": {},
   "outputs": [
    {
     "data": {
      "text/plain": [
       "body         1188\n",
       "cabin        1014\n",
       "boat          823\n",
       "home.dest     564\n",
       "age           263\n",
       "embarked        2\n",
       "fare            1\n",
       "ticket          0\n",
       "parch           0\n",
       "sibsp           0\n",
       "sex             0\n",
       "name            0\n",
       "survived        0\n",
       "pclass          0\n",
       "dtype: int64"
      ]
     },
     "execution_count": 7,
     "metadata": {},
     "output_type": "execute_result"
    }
   ],
   "source": [
    "# Missing data in each collumn\n",
    "titanic.isnull().sum().sort_values(ascending=False)"
   ]
  },
  {
   "cell_type": "code",
   "execution_count": 8,
   "metadata": {},
   "outputs": [
    {
     "data": {
      "text/plain": [
       "body         0.907563\n",
       "cabin        0.774637\n",
       "boat         0.628724\n",
       "home.dest    0.430863\n",
       "age          0.200917\n",
       "embarked     0.001528\n",
       "fare         0.000764\n",
       "ticket       0.000000\n",
       "parch        0.000000\n",
       "sibsp        0.000000\n",
       "sex          0.000000\n",
       "name         0.000000\n",
       "survived     0.000000\n",
       "pclass       0.000000\n",
       "dtype: float64"
      ]
     },
     "execution_count": 8,
     "metadata": {},
     "output_type": "execute_result"
    }
   ],
   "source": [
    "# Percentage of missing values in each collumn\n",
    "titanic.isnull().mean().sort_values(ascending=False)"
   ]
  },
  {
   "cell_type": "code",
   "execution_count": 9,
   "metadata": {},
   "outputs": [
    {
     "data": {
      "text/plain": [
       "0    True\n",
       "1    True\n",
       "2    True\n",
       "3    True\n",
       "4    True\n",
       "dtype: bool"
      ]
     },
     "execution_count": 9,
     "metadata": {},
     "output_type": "execute_result"
    }
   ],
   "source": [
    "# Mask that will of use later \n",
    "rows_with_nans = titanic.isnull().any(axis='columns')\n",
    "rows_with_nans.head()"
   ]
  },
  {
   "cell_type": "code",
   "execution_count": 10,
   "metadata": {},
   "outputs": [
    {
     "data": {
      "text/plain": [
       "S      914\n",
       "C      270\n",
       "Q      123\n",
       "NaN      2\n",
       "Name: embarked, dtype: int64"
      ]
     },
     "execution_count": 10,
     "metadata": {},
     "output_type": "execute_result"
    }
   ],
   "source": [
    "titanic.embarked.value_counts(dropna=False)"
   ]
  },
  {
   "cell_type": "markdown",
   "metadata": {},
   "source": [
    "We could see from `pandas_profiling` report that **pclass** and **sex** are categorical features with no missing values. However **embarked** (Point of embarktion) has two missing values. We could deal with these missing values in several ways:\n",
    "1. We could impute them with the most common value of this feature.\n",
    "2. We could drop these two values\n",
    "3. We could ignore them and let `pd.get_dummies()` encode them as all-zeroes.\n",
    "The latter approach could be used with **cabin** as it is also categorical (although with high cardinality)"
   ]
  },
  {
   "cell_type": "markdown",
   "metadata": {},
   "source": [
    "### Dropping (seemingly) uninformative or *leaky* columns"
   ]
  },
  {
   "cell_type": "code",
   "execution_count": 11,
   "metadata": {},
   "outputs": [],
   "source": [
    "# For extracting titles later in the analysis\n",
    "passanger_names = titanic.name\n",
    "\n",
    "columns = [\n",
    "    'name',\n",
    "    'ticket',\n",
    "    'home.dest',\n",
    "    'boat', \n",
    "    'body',\n",
    "    'cabin'\n",
    "]\n",
    "\n",
    "titanic = titanic.drop(columns=columns)"
   ]
  },
  {
   "cell_type": "markdown",
   "metadata": {},
   "source": [
    "1. **name** - Unless we perform some kind of NLP and external analysis like what were the most common names for upper-class individuals (that we assume would buy more expensive tickets on the higher decks and thus more likely to reach the rescue boats faster, we will not be able to fully take advantage of this column. We will use it to extract titles in hopes of determining their status though.\n",
    "2. **ticket** - External analysis could be used to determine which cabins (with their proximity to the main deck/rescue boats) were purchased last, or whether the ticket the passanger bought were in the lower levels that would make the evacuation harder. We will not be doing that analysis at this time.\n",
    "3. **home.dest** - Could be used similarly like the **ticket** column as described above.\n",
    "4. **boat** - *Leaky* feature that indicates that the passanger was on a rescue boat.\n",
    "5. **body** - *Leaky* feature that indicates that the passanger's body was found.\n",
    "6. **cabin** - Could be used to determine the proximity to rescue boats but will not be used this analysis' current form due to a lot of missing values."
   ]
  },
  {
   "cell_type": "markdown",
   "metadata": {},
   "source": [
    "### Creating dummy columns"
   ]
  },
  {
   "cell_type": "code",
   "execution_count": 12,
   "metadata": {},
   "outputs": [
    {
     "data": {
      "text/plain": [
       "Index(['pclass', 'survived', 'age', 'sibsp', 'parch', 'fare', 'sex_female',\n",
       "       'embarked_C', 'embarked_Q', 'embarked_S'],\n",
       "      dtype='object')"
      ]
     },
     "execution_count": 12,
     "metadata": {},
     "output_type": "execute_result"
    }
   ],
   "source": [
    "titanic = pd.get_dummies(titanic).drop(columns='sex_male')\n",
    "\n",
    "titanic.columns"
   ]
  },
  {
   "cell_type": "code",
   "execution_count": 13,
   "metadata": {},
   "outputs": [],
   "source": [
    "import janitor\n",
    "\n",
    "X, y = janitor.ml.get_features_targets(titanic, target_columns='survived')"
   ]
  },
  {
   "cell_type": "markdown",
   "metadata": {},
   "source": [
    "### Creating train and test sets"
   ]
  },
  {
   "cell_type": "code",
   "execution_count": 14,
   "metadata": {},
   "outputs": [],
   "source": [
    "def passenger_gender_proportions(data):\n",
    "    return data.sex_female.sum() / len(data)\n",
    "\n",
    "# Try train_test_split with/without stratify option\n",
    "def try_out_statify_param(stratify=False, **kwargs):\n",
    "    if not hasattr(kwargs, 'test_size'):\n",
    "        kwargs['test_size'] = 0.2\n",
    "    if not hasattr(kwargs, 'random_state'):\n",
    "        kwargs['random_state'] = 42\n",
    "    kwargs['stratify'] = X.sex_female if stratify is True else None\n",
    "    \n",
    "    return train_test_split(X, y, **kwargs)"
   ]
  },
  {
   "cell_type": "code",
   "execution_count": 15,
   "metadata": {},
   "outputs": [],
   "source": [
    "(_, X_test_strat, _, _) = try_out_statify_param(stratify=True)\n",
    "(_, X_test_rand, _, _) = try_out_statify_param(stratify=False)"
   ]
  },
  {
   "cell_type": "code",
   "execution_count": 16,
   "metadata": {},
   "outputs": [],
   "source": [
    "# For comparing gender proportions in two ways of test-train dataset splitting:\n",
    "gender_props = pd.Series(dtype=np.float64, name='Proportions of female passengers')\n",
    "\n",
    "gender_props['overall'] = passenger_gender_proportions(titanic)\n",
    "gender_props['random_w/_stratifying'] = passenger_gender_proportions(X_test_strat)\n",
    "gender_props['random_w/o_stratifying'] = passenger_gender_proportions(X_test_rand)"
   ]
  },
  {
   "cell_type": "code",
   "execution_count": 17,
   "metadata": {},
   "outputs": [],
   "source": [
    "rc = {\n",
    "    'axes.grid': False,\n",
    "    'axes.edgecolor': 'grey',\n",
    "    'axes.spines.top': False,\n",
    "    'axes.spines.right': False,\n",
    "    'axes.spines.left': False,\n",
    "    'xtick.color': 'grey',\n",
    "    'xtick.labelsize': 'small',\n",
    "    'xtick.bottom': True,\n",
    "    'xtick.major.size': 2.5,\n",
    "    'ytick.color': 'grey',\n",
    "    'ytick.major.size': 2.5,\n",
    "    'ytick.left': False,\n",
    "}\n",
    "\n",
    "sns.set(style='whitegrid', rc=rc)"
   ]
  },
  {
   "cell_type": "code",
   "execution_count": 18,
   "metadata": {},
   "outputs": [
    {
     "data": {
      "image/png": "[encoded data removed]",
      "text/plain": [
       "<Figure size 936x864 with 3 Axes>"
      ]
     },
     "metadata": {},
     "output_type": "display_data"
    }
   ],
   "source": [
    "fig = plt.figure(figsize=(13, 12))\n",
    "gs = fig.add_gridspec(3, 1)\n",
    "\n",
    "ax = [fig.add_subplot(gs[0])]\n",
    "for i in range(gs.nrows):\n",
    "    if i > 0:\n",
    "        ax.append(fig.add_subplot(gs[i], sharex=ax[0]))\n",
    "    plt.setp(ax[i].xaxis.get_label(), visible=False)\n",
    "    plt.setp(ax[i].yaxis.get_label(), visible=False)\n",
    "    \n",
    "data_sets = [titanic,  X_test_strat, X_test_rand]\n",
    "titles = ['Overall passenger gender balance', \n",
    "          'Test set gender balance w/ stratifying', \n",
    "          'Test set gender balance w/o stratifying']\n",
    "palette = sns.color_palette(['#5F4B8BFF', '#E69A8DFF'])\n",
    "\n",
    "for data, ax, title, proportion in zip(data_sets, ax, titles, gender_props.values):\n",
    "    sns.barplot(x='sex_female', y='sex_female', data=data, ax=ax, orient='horizontal',\n",
    "                palette=palette,\n",
    "                estimator=lambda x: len(x) / len(data) * 100)\n",
    "    \n",
    "    ax.set_title(title, pad=10)\n",
    "    ax.axvline(x=proportion*100, ls='-.', lw=1.5, color='black')\n",
    "    ax.annotate(f'Female passenger ratio: {proportion}' ,\n",
    "                xy=(0.58, 0.075), xycoords='axes fraction', fontsize='small')\n",
    "    ax.set_yticklabels(['Male (%)', 'Female (%)'])\n",
    "    ax.set_xticks(np.arange(0,70,5))\n",
    "    ax.set_xlim([0, 65])\n",
    "\n",
    "gs.tight_layout(fig)\n",
    "plt.show()"
   ]
  },
  {
   "cell_type": "code",
   "execution_count": 19,
   "metadata": {},
   "outputs": [],
   "source": [
    "gender_props['strat_%_error'] = 100 * gender_props['random_w/_stratifying'] / gender_props['overall'] - 100\n",
    "gender_props['rand_%_error'] = 100 * gender_props['random_w/o_stratifying'] / gender_props['overall'] - 100"
   ]
  },
  {
   "cell_type": "code",
   "execution_count": 20,
   "metadata": {},
   "outputs": [
    {
     "data": {
      "text/plain": [
       "overall                   0.355997\n",
       "random_w/_stratifying     0.354962\n",
       "random_w/o_stratifying    0.366412\n",
       "strat_%_error            -0.290764\n",
       "rand_%_error              2.925663\n",
       "Name: Proportions of female passengers, dtype: float64"
      ]
     },
     "execution_count": 20,
     "metadata": {},
     "output_type": "execute_result"
    }
   ],
   "source": [
    "gender_props"
   ]
  },
  {
   "cell_type": "markdown",
   "metadata": {},
   "source": [
    "Since the difference in female passenger proportions is around 3 times larger if we used completely random sampling for our test set instead of stratifying based on gender, we will use `test_train_split` with stratifying. Notice that the value of stratification of the test set diminishes as we increase the test set size."
   ]
  },
  {
   "cell_type": "code",
   "execution_count": 21,
   "metadata": {},
   "outputs": [],
   "source": [
    "X_train, X_test, y_train, y_test = try_out_statify_param(stratify=True)"
   ]
  },
  {
   "cell_type": "markdown",
   "metadata": {},
   "source": [
    "### Imputing Data"
   ]
  },
  {
   "cell_type": "code",
   "execution_count": 22,
   "metadata": {},
   "outputs": [],
   "source": [
    "from sklearn.experimental import enable_iterative_imputer\n",
    "from sklearn.impute import IterativeImputer\n",
    "\n",
    "# Dataframe of numerical columns of X_train\n",
    "X_train_num = X_train.select_dtypes(include=[np.number])\n",
    "\n",
    "imputer = IterativeImputer()\n",
    "imputed_train_num = imputer.fit_transform(X_train_num)\n",
    "imputed_test_num = imputer.transform(X_test[X_train_num.columns])"
   ]
  },
  {
   "cell_type": "code",
   "execution_count": 23,
   "metadata": {},
   "outputs": [
    {
     "data": {
      "text/plain": [
       "pclass        False\n",
       "age            True\n",
       "sibsp         False\n",
       "parch         False\n",
       "fare           True\n",
       "sex_female    False\n",
       "embarked_C    False\n",
       "embarked_Q    False\n",
       "embarked_S    False\n",
       "dtype: bool"
      ]
     },
     "execution_count": 23,
     "metadata": {},
     "output_type": "execute_result"
    }
   ],
   "source": [
    "X_train_num.isna().any()"
   ]
  },
  {
   "cell_type": "markdown",
   "metadata": {},
   "source": [
    "As we can see the only two numerical columns with missing values were **age** and **fare**. We can check if imputation was successful."
   ]
  },
  {
   "cell_type": "code",
   "execution_count": 24,
   "metadata": {},
   "outputs": [
    {
     "data": {
      "text/plain": [
       "pclass        False\n",
       "age           False\n",
       "sibsp         False\n",
       "parch         False\n",
       "fare          False\n",
       "sex_female    False\n",
       "embarked_C    False\n",
       "embarked_Q    False\n",
       "embarked_S    False\n",
       "dtype: bool"
      ]
     },
     "execution_count": 24,
     "metadata": {},
     "output_type": "execute_result"
    }
   ],
   "source": [
    "X_train_num_imputed = pd.DataFrame(imputed_train_num, \n",
    "                                   columns=X_train_num.columns, \n",
    "                                   index=X_train_num.index)\n",
    "X_train_num_imputed.isna().any()"
   ]
  },
  {
   "cell_type": "markdown",
   "metadata": {},
   "source": [
    "After data imputation, no numerical columns are missing. We might want to see which feature vectors required these imputations."
   ]
  },
  {
   "cell_type": "code",
   "execution_count": 25,
   "metadata": {},
   "outputs": [],
   "source": [
    "missing_fare_ix = X_train_num[X_train_num.fare.isnull()].index\n",
    "missing_age_ix = X_train_num[X_train_num.age.isnull()].index"
   ]
  },
  {
   "cell_type": "code",
   "execution_count": 26,
   "metadata": {},
   "outputs": [
    {
     "data": {
      "image/png": "[encoded data removed]",
      "text/plain": [
       "<Figure size 936x864 with 4 Axes>"
      ]
     },
     "metadata": {},
     "output_type": "display_data"
    }
   ],
   "source": [
    "rc.update({\n",
    "    'axes.spines.left': True,\n",
    "    'ytick.left': True,\n",
    "})\n",
    "\n",
    "sns.set(style='whitegrid', rc=rc)\n",
    "\n",
    "fig = plt.figure(figsize=(13,12))\n",
    "gs = fig.add_gridspec(2, 2)\n",
    "\n",
    "axes = []\n",
    "for row in range(gs.nrows):\n",
    "    axes_col = []\n",
    "    for col in range(gs.ncols):\n",
    "        if col == 0:\n",
    "            ax = fig.add_subplot(gs[row,col])\n",
    "        else:\n",
    "            ax = fig.add_subplot(gs[row,col], sharey=axes_col[0])\n",
    "        plt.setp(ax.yaxis.get_label(), visible=False)\n",
    "        axes_col.append(ax)\n",
    "    axes.append(axes_col)\n",
    "\n",
    "\n",
    "hist_kws=dict(alpha=1)\n",
    "\n",
    "# Plotting imputed age data\n",
    "titles = ['Age distribution after applying IterativeImputer', \n",
    "          'Age distribution before applying IterativeImputer']\n",
    "for data, title, ax in zip([X_train_num_imputed, X_train_num], titles, axes[:][0]):\n",
    "    bins=40\n",
    "    sns.distplot(data['age'], kde=False, bins=bins, \n",
    "                 color=palette[1], hist_kws=hist_kws, ax=ax)\n",
    "    ax.set_title(title, pad=10)\n",
    "    ax.set_xlabel('Age')\n",
    "    ax.set_xticks(np.arange(0, 80+1, 5))\n",
    "    \n",
    "    \n",
    "# Plotting imputed fare data\n",
    "titles = ['Fare distribution after applying IterativeImputer', \n",
    "          'Fare distribution before applying IterativeImputer']\n",
    "for data, title, ax in zip([X_train_num_imputed, X_train_num], titles, axes[:][1]):\n",
    "    sns.distplot(data['fare'], kde=False, bins=20, \n",
    "                 color=palette[1], hist_kws=hist_kws, ax=ax)\n",
    "    ax.set_title(title, pad=10)\n",
    "    ax.set_xlabel('Fare (unknown currency)')\n",
    "    \n",
    "gs.tight_layout(fig)\n",
    "plt.show()"
   ]
  },
  {
   "cell_type": "markdown",
   "metadata": {},
   "source": [
    "We can see that **age** feature histogram has visible changes after performing data imputation, but **fare** histogram is virtually identical. We can confirm that the imputation is still working by highlighting (or remembering, from `pandas_profiling` observations) the fact that only one **fare** value needed to be imputed, thus it's likely it's not observable in the histogram comparison."
   ]
  },
  {
   "cell_type": "code",
   "execution_count": 27,
   "metadata": {},
   "outputs": [
    {
     "data": {
      "text/html": [
       "<div>\n",
       "<style scoped>\n",
       "    .dataframe tbody tr th:only-of-type {\n",
       "        vertical-align: middle;\n",
       "    }\n",
       "\n",
       "    .dataframe tbody tr th {\n",
       "        vertical-align: top;\n",
       "    }\n",
       "\n",
       "    .dataframe thead th {\n",
       "        text-align: right;\n",
       "    }\n",
       "</style>\n",
       "<table border=\"1\" class=\"dataframe\">\n",
       "  <thead>\n",
       "    <tr style=\"text-align: right;\">\n",
       "      <th></th>\n",
       "      <th>pclass</th>\n",
       "      <th>age</th>\n",
       "      <th>sibsp</th>\n",
       "      <th>parch</th>\n",
       "      <th>fare</th>\n",
       "      <th>sex_female</th>\n",
       "      <th>embarked_C</th>\n",
       "      <th>embarked_Q</th>\n",
       "      <th>embarked_S</th>\n",
       "    </tr>\n",
       "  </thead>\n",
       "  <tbody>\n",
       "    <tr>\n",
       "      <th>1225</th>\n",
       "      <td>3.0</td>\n",
       "      <td>60.5</td>\n",
       "      <td>0.0</td>\n",
       "      <td>0.0</td>\n",
       "      <td>0.025319</td>\n",
       "      <td>0.0</td>\n",
       "      <td>0.0</td>\n",
       "      <td>0.0</td>\n",
       "      <td>1.0</td>\n",
       "    </tr>\n",
       "  </tbody>\n",
       "</table>\n",
       "</div>"
      ],
      "text/plain": [
       "      pclass   age  sibsp  parch      fare  sex_female  embarked_C  \\\n",
       "1225     3.0  60.5    0.0    0.0  0.025319         0.0         0.0   \n",
       "\n",
       "      embarked_Q  embarked_S  \n",
       "1225         0.0         1.0  "
      ]
     },
     "execution_count": 27,
     "metadata": {},
     "output_type": "execute_result"
    }
   ],
   "source": [
    "X_train_num_imputed.loc[missing_fare_ix]"
   ]
  },
  {
   "cell_type": "code",
   "execution_count": 28,
   "metadata": {},
   "outputs": [
    {
     "data": {
      "text/plain": [
       "count    1046.000000\n",
       "mean       32.410726\n",
       "std        49.447980\n",
       "min         0.000000\n",
       "25%         7.895800\n",
       "50%        14.400000\n",
       "75%        30.500000\n",
       "max       512.329200\n",
       "Name: fare, dtype: float64"
      ]
     },
     "execution_count": 28,
     "metadata": {},
     "output_type": "execute_result"
    }
   ],
   "source": [
    "X_train_num.fare.describe()"
   ]
  },
  {
   "cell_type": "markdown",
   "metadata": {},
   "source": [
    "The imputed **fare** value is far below the 25% quantile.\n",
    "\n",
    "We might be interested to visualize the imputed values from the chart above on top of non-imputed values to better grasp the scale and impact and inner workings of `IterativeImputer` that we used."
   ]
  },
  {
   "cell_type": "code",
   "execution_count": 29,
   "metadata": {},
   "outputs": [],
   "source": [
    "age_imputed = X_train_num_imputed.copy()\n",
    "age_imputed['is_imputed'] = False\n",
    "age_imputed.loc[missing_age_ix, 'is_imputed'] = True\n",
    "\n",
    "fare_imputed = X_train_num_imputed.copy()\n",
    "fare_imputed['is_imputed'] = False\n",
    "fare_imputed.loc[missing_fare_ix, 'is_imputed'] = True"
   ]
  },
  {
   "cell_type": "code",
   "execution_count": 30,
   "metadata": {
    "scrolled": false
   },
   "outputs": [
    {
     "data": {
      "image/png": "[encoded data removed]",
      "text/plain": [
       "<Figure size 936x864 with 2 Axes>"
      ]
     },
     "metadata": {},
     "output_type": "display_data"
    }
   ],
   "source": [
    "fig = plt.figure(figsize=(13,12))\n",
    "gs = fig.add_gridspec(1, 2)\n",
    "\n",
    "ax = [fig.add_subplot(gs[col]) for col in range(gs.ncols)]\n",
    "kwargs = dict(kde=False, bins=50, hist_kws={'alpha':1.0})\n",
    "\n",
    "# For `age` attribute\n",
    "imputed_plot = sns.distplot(age_imputed.age, color=palette[0], ax=ax[0], **kwargs)\n",
    "original_plot = sns.distplot(age_imputed[age_imputed.is_imputed==False].age, \n",
    "                             color=palette[1], ax=ax[0], **kwargs)\n",
    "\n",
    "# For `fare` attribute\n",
    "imputed_plot = sns.distplot(fare_imputed.fare, color=palette[0], ax=ax[1], \n",
    "                            label='Imputed', **kwargs)\n",
    "original_plot = sns.distplot(fare_imputed[fare_imputed.is_imputed==False].fare, \n",
    "                             label='Original', color=palette[1], ax=ax[1], **kwargs)\n",
    "\n",
    "fig.suptitle('Distributions of original and imputed values', y=1.02)\n",
    "plt.legend()\n",
    "gs.tight_layout(fig)\n",
    "plt.show()"
   ]
  },
  {
   "cell_type": "markdown",
   "metadata": {},
   "source": [
    "We can see the single imputed **fare** value in the first bin of the right historgram more clearly now.\n",
    "\n",
    "### Normalizing Data"
   ]
  },
  {
   "cell_type": "code",
   "execution_count": 31,
   "metadata": {},
   "outputs": [
    {
     "data": {
      "text/plain": [
       "Index(['pclass', 'age', 'sibsp', 'parch', 'fare', 'sex_female', 'embarked_C',\n",
       "       'embarked_Q', 'embarked_S'],\n",
       "      dtype='object')"
      ]
     },
     "execution_count": 31,
     "metadata": {},
     "output_type": "execute_result"
    }
   ],
   "source": [
    "X_train_num.columns"
   ]
  },
  {
   "cell_type": "code",
   "execution_count": 32,
   "metadata": {},
   "outputs": [],
   "source": [
    "# We are not going to normalize dummy columns, so we will explicitly\n",
    "# specify which columns we want to be normalized\n",
    "\n",
    "cols_to_normalize = ['pclass', 'age', 'sibsp', 'parch', 'fare']"
   ]
  },
  {
   "cell_type": "code",
   "execution_count": 33,
   "metadata": {},
   "outputs": [],
   "source": [
    "from sklearn.preprocessing import StandardScaler\n",
    "\n",
    "scaler = StandardScaler()\n",
    "scaled_train_num = scaler.fit_transform(X_train_num_imputed[cols_to_normalize])\n",
    "# We never turned test data back to a DataFrame so pass the imputed array and use array indexing\n",
    "scaled_test_num = scaler.transform(imputed_test_num[:, :len(cols_to_normalize)]) "
   ]
  },
  {
   "cell_type": "code",
   "execution_count": 34,
   "metadata": {},
   "outputs": [],
   "source": [
    "# Turning back to a DataFrame\n",
    "X_train_num_normalized = pd.DataFrame(scaled_train_num, columns=cols_to_normalize)"
   ]
  },
  {
   "cell_type": "code",
   "execution_count": 35,
   "metadata": {},
   "outputs": [
    {
     "data": {
      "image/png": "[encoded data removed]",
      "text/plain": [
       "<Figure size 864x720 with 1 Axes>"
      ]
     },
     "metadata": {},
     "output_type": "display_data"
    }
   ],
   "source": [
    "fig = plt.figure(figsize=(12,10))\n",
    "sns.distplot(X_train_num_normalized.fare, color=palette[1], **kwargs)\n",
    "plt.title('Normalized distribution of passenger fare attribute', size=14)\n",
    "plt.show()"
   ]
  },
  {
   "cell_type": "markdown",
   "metadata": {},
   "source": [
    "### Refactoring\n",
    "\n",
    "As a chance to learn decorators, we will first define a wrapper to measure the performances of approaches described in the book and my version of it."
   ]
  },
  {
   "cell_type": "code",
   "execution_count": 36,
   "metadata": {},
   "outputs": [],
   "source": [
    "from time import time\n",
    "import functools\n",
    "\n",
    "def measure_time(func):\n",
    "    @functools.wraps(func)\n",
    "    def wrapper(*args, **kwargs):\n",
    "        t0 = time()\n",
    "        result = func(*args, **kwargs)\n",
    "        t1 = time() - t0\n",
    "        print(f'{func.__name__} running time: {t1}')\n",
    "        return result\n",
    "    return wrapper"
   ]
  },
  {
   "cell_type": "markdown",
   "metadata": {},
   "source": [
    "Original (with minor spacing or formatting tweaks) code that was proposed to use in the book:"
   ]
  },
  {
   "cell_type": "code",
   "execution_count": 37,
   "metadata": {},
   "outputs": [
    {
     "name": "stdout",
     "output_type": "stream",
     "text": [
      "book_usage running time: 0.04257059097290039\n"
     ]
    },
    {
     "name": "stderr",
     "output_type": "stream",
     "text": [
      "/home/lukas/anaconda3/envs/handsonml/lib/python3.7/site-packages/pandas/core/indexing.py:966: SettingWithCopyWarning: \n",
      "A value is trying to be set on a copy of a slice from a DataFrame.\n",
      "Try using .loc[row_indexer,col_indexer] = value instead\n",
      "\n",
      "See the caveats in the documentation: https://pandas.pydata.org/pandas-docs/stable/user_guide/indexing.html#returning-a-view-versus-a-copy\n",
      "  self.obj[item] = s\n",
      "/home/lukas/anaconda3/envs/handsonml/lib/python3.7/site-packages/pandas/core/indexing.py:966: SettingWithCopyWarning: \n",
      "A value is trying to be set on a copy of a slice from a DataFrame.\n",
      "Try using .loc[row_indexer,col_indexer] = value instead\n",
      "\n",
      "See the caveats in the documentation: https://pandas.pydata.org/pandas-docs/stable/user_guide/indexing.html#returning-a-view-versus-a-copy\n",
      "  self.obj[item] = s\n",
      "/home/lukas/anaconda3/envs/handsonml/lib/python3.7/site-packages/pandas/core/indexing.py:966: SettingWithCopyWarning: \n",
      "A value is trying to be set on a copy of a slice from a DataFrame.\n",
      "Try using .loc[row_indexer,col_indexer] = value instead\n",
      "\n",
      "See the caveats in the documentation: https://pandas.pydata.org/pandas-docs/stable/user_guide/indexing.html#returning-a-view-versus-a-copy\n",
      "  self.obj[item] = s\n",
      "/home/lukas/anaconda3/envs/handsonml/lib/python3.7/site-packages/pandas/core/indexing.py:966: SettingWithCopyWarning: \n",
      "A value is trying to be set on a copy of a slice from a DataFrame.\n",
      "Try using .loc[row_indexer,col_indexer] = value instead\n",
      "\n",
      "See the caveats in the documentation: https://pandas.pydata.org/pandas-docs/stable/user_guide/indexing.html#returning-a-view-versus-a-copy\n",
      "  self.obj[item] = s\n"
     ]
    }
   ],
   "source": [
    "def tweat_titanic(df):\n",
    "    df = (df.drop(columns=['name', 'ticket', 'home.dest', 'boat', 'body', 'cabin'])\n",
    "            .pipe(pd.get_dummies, drop_first=True))\n",
    "    return df\n",
    "\n",
    "\n",
    "def get_train_test_X_y(df, y_col, size=0.3, std_cols=None):\n",
    "    y = df[y_col]\n",
    "    X = df.drop(columns=y_col)\n",
    "    \n",
    "    X_train, X_test, y_train, y_test = train_test_split(X, y, test_size=size, random_state=42)\n",
    "    \n",
    "    cols = X.columns\n",
    "    num_cols = ['pclass', 'age', 'sibsp', 'parch', 'fare']\n",
    "    \n",
    "    fi = IterativeImputer()\n",
    "    X_train.loc[:, num_cols] = fi.fit_transform(X_train[num_cols])\n",
    "    X_test.loc[:, num_cols] = fi.transform(X_test[num_cols])\n",
    "    \n",
    "    if std_cols:\n",
    "        std = StandardScaler()\n",
    "        X_train.loc[:, std_cols] = std.fit_transform(X_train[std_cols])\n",
    "        X_test.loc[:, std_cols] = std.transform(X_test[std_cols])\n",
    "        \n",
    "    return X_train, X_test, y_train, y_test\n",
    "\n",
    "\n",
    "# Usage\n",
    "@measure_time\n",
    "def book_usage():\n",
    "    ti_df = tweat_titanic(titanic_vandebilt.copy())\n",
    "    std_cols = 'pclass,age,sibsp,fare'.split(',')\n",
    "    return get_train_test_X_y(ti_df, 'survived', std_cols=std_cols) \n",
    "\n",
    "X_train_b, X_test_b, y_train_b, y_test_b = book_usage()"
   ]
  },
  {
   "cell_type": "markdown",
   "metadata": {},
   "source": [
    "My solution using pipelines:"
   ]
  },
  {
   "cell_type": "code",
   "execution_count": 38,
   "metadata": {
    "scrolled": false
   },
   "outputs": [
    {
     "name": "stdout",
     "output_type": "stream",
     "text": [
      "self_usage running time: 0.1368851661682129\n"
     ]
    }
   ],
   "source": [
    "from sklearn.preprocessing import OneHotEncoder\n",
    "from sklearn.compose import ColumnTransformer\n",
    "\n",
    "numerical_feat_preprocessing_pipeline = Pipeline([\n",
    "    ('iter_imputer', IterativeImputer()),\n",
    "    ('std_scaler', StandardScaler())\n",
    "])\n",
    "\n",
    "# Isn't used because drop='first' and handle_unknown='ignore' cannot be used together\n",
    "# -----\n",
    "categorical_feat_preprocessing_pipeline = Pipeline([\n",
    "    ('1h_encoder', OneHotEncoder(drop='first', handle_unknown='error'))\n",
    "])\n",
    "\n",
    "num_cols = ['pclass', 'age', 'sibsp', 'parch', 'fare']\n",
    "cat_cols = ['sex', 'embarked']\n",
    "\n",
    "full_preprocessing_pipeline = ColumnTransformer([\n",
    "    ('numerical', numerical_feat_preprocessing_pipeline, num_cols),\n",
    "    ('categorical', categorical_feat_preprocessing_pipeline, cat_cols)\n",
    "])\n",
    "# -----\n",
    "\n",
    "@measure_time\n",
    "def self_usage():\n",
    "    titanic = tweat_titanic(titanic_vandebilt.copy())\n",
    "    \n",
    "    X, y = janitor.ml.get_features_targets(titanic, target_columns='survived')\n",
    "    X_train, X_test, y_train, y_test = train_test_split(X, y, test_size=0.3, \n",
    "                                                        random_state=42, stratify=y)\n",
    "    \n",
    "    X_train = numerical_feat_preprocessing_pipeline.fit_transform(X_train)\n",
    "    X_test = numerical_feat_preprocessing_pipeline.transform(X_test)\n",
    "    \n",
    "    return (X_train, X_test, y_train, y_test)\n",
    "\n",
    "X_train, X_test, y_train, y_test = self_usage()"
   ]
  },
  {
   "cell_type": "markdown",
   "metadata": {},
   "source": [
    "Solution provided in the book runs faster and is considerably more readable on screen rather than on the small booklet. Runtime complains because of usage of `.loc`.\n",
    "\n",
    "My version didn't turn out to be as I wanted - mainly because of missing values in **embarked** column, we cannot drop and ignore columns using `sklearn.preprocessing.OneHotEncoder`. Similar issue with these parameters were found in a blog post [1]. I opted to re-use `pd.get_dummies` instead. I also used stratified train test split with additional parameter in `sklearn.model_selection.train_test_split`. Lastly, the returned values are ndarrays instead of DataFrames, as that's what sklearn's transformers normally expect."
   ]
  },
  {
   "cell_type": "markdown",
   "metadata": {},
   "source": [
    "### Baseline Model"
   ]
  },
  {
   "cell_type": "code",
   "execution_count": 39,
   "metadata": {},
   "outputs": [
    {
     "name": "stdout",
     "output_type": "stream",
     "text": [
      "DummyClassifier(random_state=42, strategy='stratified'):\n",
      "Accuracy: 0.5419847328244275\n",
      "Precision: 0.40131578947368424\n",
      "\n"
     ]
    }
   ],
   "source": [
    "from sklearn.dummy import DummyClassifier\n",
    "from sklearn.metrics import accuracy_score, precision_score\n",
    "\n",
    "baseline_model = DummyClassifier(strategy='stratified', random_state=42)\n",
    "baseline_model.fit(X_train, y_train)\n",
    "\n",
    "y_pred = baseline_model.predict(X_test)\n",
    "accuracy = accuracy_score(y_test, y_pred)\n",
    "precision = precision_score(y_test, y_pred)\n",
    "\n",
    "print(f\"\"\"{baseline_model.__str__()}:\n",
    "Accuracy: {accuracy}\n",
    "Precision: {precision}\n",
    "\"\"\")"
   ]
  },
  {
   "cell_type": "code",
   "execution_count": 40,
   "metadata": {},
   "outputs": [
    {
     "data": {
      "text/plain": [
       "0.5419847328244275"
      ]
     },
     "execution_count": 40,
     "metadata": {},
     "output_type": "execute_result"
    }
   ],
   "source": [
    "# Same as accuracy_score\n",
    "baseline_model.score(X_test, y_test)"
   ]
  },
  {
   "cell_type": "markdown",
   "metadata": {},
   "source": [
    "### Trying Out Various ML Algorithm Families\n",
    "\n",
    "In the book it is suggested to concatenate the test set and train set back together because we are not going to use k-fold cross validation for tuning model hyperparameters, but for checking performances of the models from various ML algorithm families. \n",
    "\n",
    "However, we will not do that here and we will treat the already-derived train set as a holdout set."
   ]
  },
  {
   "cell_type": "code",
   "execution_count": 41,
   "metadata": {},
   "outputs": [
    {
     "name": "stdout",
     "output_type": "stream",
     "text": [
      "DummyClassifier        AUC: 0.505 STD: 0.02\n",
      "LogisticRegression     AUC: 0.827 STD: 0.05\n",
      "DecisionTreeClassifier AUC: 0.738 STD: 0.06\n",
      "KNeighborsClassifier   AUC: 0.822 STD: 0.06\n",
      "GaussianNB             AUC: 0.807 STD: 0.06\n",
      "SVC                    AUC: 0.822 STD: 0.06\n",
      "RandomForestClassifier AUC: 0.842 STD: 0.05\n",
      "XGBClassifier          AUC: 0.835 STD: 0.04\n"
     ]
    }
   ],
   "source": [
    "from sklearn.linear_model import LogisticRegression\n",
    "from sklearn.tree import DecisionTreeClassifier\n",
    "from sklearn.neighbors import KNeighborsClassifier\n",
    "from sklearn.naive_bayes import GaussianNB\n",
    "from sklearn.svm import SVC\n",
    "from sklearn.ensemble import RandomForestClassifier\n",
    "from xgboost import XGBClassifier\n",
    "\n",
    "for model in [\n",
    "    DummyClassifier, \n",
    "    LogisticRegression, \n",
    "    DecisionTreeClassifier, \n",
    "    KNeighborsClassifier,\n",
    "    GaussianNB,\n",
    "    SVC,\n",
    "    RandomForestClassifier,\n",
    "    XGBClassifier\n",
    "]:\n",
    "    classifier = model()\n",
    "    kfold = KFold(n_splits=10, shuffle=True, random_state=42)\n",
    "    cv_scores = cross_val_score(classifier, X_train, y_train, scoring='roc_auc', cv=kfold, n_jobs=-1)\n",
    "    print(f'{model.__name__:22} AUC: {cv_scores.mean():.3f} STD: {cv_scores.std():.2f}')"
   ]
  },
  {
   "cell_type": "code",
   "execution_count": 43,
   "metadata": {},
   "outputs": [
    {
     "name": "stdout",
     "output_type": "stream",
     "text": [
      "StackingClassifier     AUC: 0.786 STD: 0.06\n"
     ]
    }
   ],
   "source": [
    "from mlxtend.classifier import StackingClassifier\n",
    "\n",
    "classifiers = [model() for model in [\n",
    "    LogisticRegression, DecisionTreeClassifier, GaussianNB, \n",
    "    KNeighborsClassifier, SVC, RandomForestClassifier, XGBClassifier\n",
    "]]\n",
    "\n",
    "stack = StackingClassifier(classifiers=classifiers, \n",
    "                           meta_classifier=LogisticRegression(), \n",
    "                           use_clones=False)\n",
    "\n",
    "kfold = KFold(n_splits=10, shuffle=True, random_state=42)\n",
    "cv_scores = cross_val_score(stack, X_train, y_train, scoring='roc_auc', cv=kfold, n_jobs=-1)\n",
    "print(f'{stack.__class__.__name__:22} AUC: {cv_scores.mean():.3f} STD: {cv_scores.std():.2f}')"
   ]
  },
  {
   "cell_type": "code",
   "execution_count": 44,
   "metadata": {},
   "outputs": [
    {
     "name": "stdout",
     "output_type": "stream",
     "text": [
      "LogisticRegression     ACC: 0.817 PRC 0.779\n",
      "KNeighborsClassifier   ACC: 0.796 PRC 0.727\n",
      "GaussianNB             ACC: 0.796 PRC 0.727\n",
      "SVC                    ACC: 0.827 PRC 0.785\n",
      "RandomForestClassifier ACC: 0.774 PRC 0.699\n",
      "XGBClassifier          ACC: 0.809 PRC 0.748\n",
      "StackingClassifier     ACC: 0.791 PRC 0.715\n"
     ]
    }
   ],
   "source": [
    "for classifier in [LogisticRegression(), KNeighborsClassifier(), GaussianNB(), \n",
    "                   SVC(), RandomForestClassifier(), XGBClassifier(), stack]:\n",
    "    \n",
    "    classifier.fit(X_train, y_train)\n",
    "    y_pred = classifier.predict(X_test)\n",
    "    \n",
    "    accuracy = accuracy_score(y_test, y_pred)\n",
    "    precision = precision_score(y_test, y_pred)\n",
    "    \n",
    "    print(f'{classifier.__class__.__name__:22} ACC: {accuracy:.3f} PRC {precision:.3f}')"
   ]
  },
  {
   "cell_type": "markdown",
   "metadata": {},
   "source": [
    "### Creating a Model"
   ]
  },
  {
   "cell_type": "code",
   "execution_count": 67,
   "metadata": {},
   "outputs": [],
   "source": [
    "def evaluate_model(model_instance, scorers):\n",
    "    # Check if X_test and y_test are available as free variables\n",
    "    if not set(['X_test', 'y_test']).issubset(set(dir())):\n",
    "        y_pred = model_instance.predict(X_test)\n",
    "        results_string = f'{model_instance.__class__.__name__:22}'\n",
    "        for scorer in scorers:\n",
    "            metric_name, func = scorer\n",
    "            score = func(y_test, y_pred)\n",
    "            results_string += f' {metric_name:3}: {score:.3f}'\n",
    "        print(results_string)\n",
    "    else:\n",
    "        raise ReferenceError('X_test, y_test not in scope')"
   ]
  },
  {
   "cell_type": "code",
   "execution_count": 70,
   "metadata": {},
   "outputs": [
    {
     "name": "stdout",
     "output_type": "stream",
     "text": [
      "RandomForestClassifier ACC: 0.779 PRC: 0.709\n"
     ]
    }
   ],
   "source": [
    "rf_cls = RandomForestClassifier(n_estimators=100, random_state=42)\n",
    "rf_cls.fit(X_train, y_train)\n",
    "\n",
    "evaluate_model(rf_cls, [('ACC', accuracy_score), ('PRC', precision_score)])"
   ]
  },
  {
   "cell_type": "code",
   "execution_count": null,
   "metadata": {},
   "outputs": [],
   "source": []
  }
 ],
 "metadata": {
  "kernelspec": {
   "display_name": "Python 3",
   "language": "python",
   "name": "python3"
  },
  "language_info": {
   "codemirror_mode": {
    "name": "ipython",
    "version": 3
   },
   "file_extension": ".py",
   "mimetype": "text/x-python",
   "name": "python",
   "nbconvert_exporter": "python",
   "pygments_lexer": "ipython3",
   "version": "3.7.6"
  }
 },
 "nbformat": 4,
 "nbformat_minor": 2
}
