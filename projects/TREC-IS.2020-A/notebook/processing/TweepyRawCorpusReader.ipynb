{
 "cells": [
  {
   "cell_type": "code",
   "execution_count": 1,
   "metadata": {
    "scrolled": false
   },
   "outputs": [
    {
     "name": "stdout",
     "output_type": "stream",
     "text": [
      "First few fileids in train dataset corpus:\n"
     ]
    },
    {
     "data": {
      "text/plain": [
       "['Advice/bombing.bostonBombings2013.jsonl',\n",
       " 'Advice/bombing.westTexasExplosion2013.jsonl',\n",
       " 'Advice/earthquake.chileEarthquake2014.jsonl',\n",
       " 'Advice/earthquake.costaRicaEarthquake2012.jsonl',\n",
       " 'Advice/earthquake.earthquakeBohol2013.jsonl']"
      ]
     },
     "metadata": {},
     "output_type": "display_data"
    },
    {
     "name": "stdout",
     "output_type": "stream",
     "text": [
      "All categories in corpus:\n"
     ]
    },
    {
     "data": {
      "text/plain": [
       "['Advice',\n",
       " 'CleanUp',\n",
       " 'ContextualInformation',\n",
       " 'Discussion',\n",
       " 'Donations',\n",
       " 'EmergingThreats',\n",
       " 'Factoid',\n",
       " 'FirstPartyObservation',\n",
       " 'GoodsServices',\n",
       " 'Hashtags',\n",
       " 'InformationWanted',\n",
       " 'Irrelevant',\n",
       " 'Location',\n",
       " 'MovePeople',\n",
       " 'MultimediaShare',\n",
       " 'NewSubEvent',\n",
       " 'News',\n",
       " 'Official',\n",
       " 'OriginalEvent',\n",
       " 'Priority',\n",
       " 'SearchAndRescue',\n",
       " 'Sentiment',\n",
       " 'ServiceAvailable',\n",
       " 'ThirdPartyObservation',\n",
       " 'Volunteer',\n",
       " 'Weather']"
      ]
     },
     "metadata": {},
     "output_type": "display_data"
    },
    {
     "name": "stdout",
     "output_type": "stream",
     "text": [
      "All fileids in train dataset 'Discussion' category:\n"
     ]
    },
    {
     "data": {
      "text/plain": [
       "['Discussion/bombing.bostonBombings2013.jsonl',\n",
       " 'Discussion/bombing.westTexasExplosion2013.jsonl',\n",
       " 'Discussion/earthquake.chileEarthquake2014.jsonl',\n",
       " 'Discussion/earthquake.costaRicaEarthquake2012.jsonl',\n",
       " 'Discussion/earthquake.earthquakeBohol2013.jsonl',\n",
       " 'Discussion/earthquake.earthquakeCalifornia2014.jsonl',\n",
       " 'Discussion/earthquake.guatemalaEarthquake2012.jsonl',\n",
       " 'Discussion/earthquake.italyEarthquakes2012.jsonl',\n",
       " 'Discussion/earthquake.nepalEarthquake2015.jsonl',\n",
       " 'Discussion/flood.albertaFloods2013.jsonl',\n",
       " 'Discussion/flood.floodChoco2019.jsonl',\n",
       " 'Discussion/flood.floodColorado2013.jsonl',\n",
       " 'Discussion/flood.philipinnesFloods2012.jsonl',\n",
       " 'Discussion/flood.queenslandFloods2013.jsonl',\n",
       " 'Discussion/flood.southAfricaFloods2019.jsonl',\n",
       " 'Discussion/shooting.coloradoStemShooting2019.jsonl',\n",
       " 'Discussion/shooting.flSchoolShooting2018.jsonl',\n",
       " 'Discussion/shooting.sandiegoSynagogueShooting2019.jsonl',\n",
       " 'Discussion/shooting.shootingDallas2017.jsonl',\n",
       " 'Discussion/typhoon.cycloneKenneth2019.jsonl',\n",
       " 'Discussion/typhoon.joplinTornado2011.jsonl',\n",
       " 'Discussion/typhoon.typhoonHagupit2014.jsonl',\n",
       " 'Discussion/typhoon.typhoonPablo2012.jsonl',\n",
       " 'Discussion/typhoon.typhoonYolanda2013.jsonl',\n",
       " 'Discussion/wildfire.australiaBushfire2013.jsonl',\n",
       " 'Discussion/wildfire.fireColorado2012.jsonl',\n",
       " 'Discussion/wildfire.fireYMM2016.jsonl']"
      ]
     },
     "metadata": {},
     "output_type": "display_data"
    }
   ],
   "source": [
    "from IPython.display import display\n",
    "import sys; sys.path.append('../../src/')\n",
    "from processing.corpus_readers import TweepyRawCorpusReader\n",
    "\n",
    "\n",
    "train_data_path = '../../data/prepared/train/'\n",
    "corpus_reader = TweepyRawCorpusReader(root=train_data_path)\n",
    "\n",
    "# Display first few fileids in the train set (*NOT* going to be same as in the test set)\n",
    "print('First few fileids in train dataset corpus:')\n",
    "display(corpus_reader.fileids()[:5])\n",
    "\n",
    "# Display all categories in the train set (*WILL* going to be same as in the test set)\n",
    "print('All categories in corpus:')\n",
    "display(corpus_reader.categories())\n",
    "\n",
    "# Display all fileids of train set of category 'Advice'\n",
    "print(\"All fileids in train dataset 'Discussion' category:\")\n",
    "display(corpus_reader.resolve(categories='Discussion'))"
   ]
  },
  {
   "cell_type": "code",
   "execution_count": 2,
   "metadata": {},
   "outputs": [
    {
     "data": {
      "text/plain": [
       "'{\"created_at\":1366056891000,\"id\":323892195365113857,\"id_str\":\"323892195365113857\",\"full_text\":\"Those poor people were raising money for their chosen charities. How could the human race do that to them! #prayforboston\",\"truncated\":false,\"display_text_range\":[0,121],\"entities\":{\"hashtags\":[{\"text\":\"pr'"
      ]
     },
     "execution_count": 2,
     "metadata": {},
     "output_type": "execute_result"
    }
   ],
   "source": [
    "# Explore our customized TRECISTweetCorpusReader capabilities  \n",
    "# with only a single event tweets list in 'Discussion' category\n",
    "fileid = corpus_reader.resolve(categories='Discussion')[0]\n",
    "\n",
    "# .raw() prints out file contents as a string\n",
    "corpus_reader.raw(fileids=fileid)[:300]"
   ]
  },
  {
   "cell_type": "code",
   "execution_count": 9,
   "metadata": {
    "scrolled": false
   },
   "outputs": [
    {
     "data": {
      "text/plain": [
       "{'created_at': 1366054127000,\n",
       " 'id': 323880602321448961,\n",
       " 'id_str': '323880602321448961',\n",
       " 'full_text': \"RT @awmannes: This pic sure doesn't look good - “@thedailybeast: aftermath of the Boston Marathon bombing (via @brm90) http://t.co/jKO2o ...\",\n",
       " 'truncated': False,\n",
       " 'display_text_range': [0, 140],\n",
       " 'entities': {'hashtags': [],\n",
       "  'symbols': [],\n",
       "  'user_mentions': [{'screen_name': 'awmannes',\n",
       "    'name': 'ThePhantomMannes',\n",
       "    'id': 235157198,\n",
       "    'id_str': '235157198',\n",
       "    'indices': [3, 12]},\n",
       "   {'screen_name': 'thedailybeast',\n",
       "    'name': 'The Daily Beast',\n",
       "    'id': 16012783,\n",
       "    'id_str': '16012783',\n",
       "    'indices': [49, 63]},\n",
       "   {'screen_name': 'brm90',\n",
       "    'name': 'Bruce Mendelsohn (The Hired Pen)',\n",
       "    'id': 18142983,\n",
       "    'id_str': '18142983',\n",
       "    'indices': [111, 117]}],\n",
       "  'urls': []},\n",
       " 'source': '<a href=\"http://tapbots.com/tweetbot\" rel=\"nofollow\">Tweetbot for iOS</a>',\n",
       " 'in_reply_to_status_id': None,\n",
       " 'in_reply_to_status_id_str': 'None',\n",
       " 'in_reply_to_user_id': None,\n",
       " 'in_reply_to_user_id_str': 'None',\n",
       " 'in_reply_to_screen_name': None,\n",
       " 'user': {'id': 70641077,\n",
       "  'id_str': '70641077',\n",
       "  'name': 'Nigel',\n",
       "  'screen_name': 'nigelgutgenug',\n",
       "  'location': 'HQ. ',\n",
       "  'description': 'My DNA put paid to becoming a jockey.',\n",
       "  'url': None,\n",
       "  'entities': {'description': {'urls': []}},\n",
       "  'protected': False,\n",
       "  'followers_count': 635,\n",
       "  'friends_count': 1157,\n",
       "  'listed_count': 30,\n",
       "  'created_at': 'Tue Sep 01 09:34:57 +0000 2009',\n",
       "  'favourites_count': 6958,\n",
       "  'utc_offset': None,\n",
       "  'time_zone': None,\n",
       "  'geo_enabled': True,\n",
       "  'verified': False,\n",
       "  'statuses_count': 31605,\n",
       "  'lang': None,\n",
       "  'contributors_enabled': False,\n",
       "  'is_translator': False,\n",
       "  'is_translation_enabled': False,\n",
       "  'profile_background_color': '022330',\n",
       "  'profile_background_image_url': 'http://abs.twimg.com/images/themes/theme15/bg.png',\n",
       "  'profile_background_image_url_https': 'https://abs.twimg.com/images/themes/theme15/bg.png',\n",
       "  'profile_background_tile': False,\n",
       "  'profile_image_url': 'http://pbs.twimg.com/profile_images/1179148097626222594/52bWsmHk_normal.jpg',\n",
       "  'profile_image_url_https': 'https://pbs.twimg.com/profile_images/1179148097626222594/52bWsmHk_normal.jpg',\n",
       "  'profile_banner_url': 'https://pbs.twimg.com/profile_banners/70641077/1455924601',\n",
       "  'profile_link_color': '0084B4',\n",
       "  'profile_sidebar_border_color': 'A8C7F7',\n",
       "  'profile_sidebar_fill_color': 'C0DFEC',\n",
       "  'profile_text_color': '333333',\n",
       "  'profile_use_background_image': True,\n",
       "  'has_extended_profile': False,\n",
       "  'default_profile': False,\n",
       "  'default_profile_image': False,\n",
       "  'following': None,\n",
       "  'follow_request_sent': None,\n",
       "  'notifications': None,\n",
       "  'translator_type': 'none'},\n",
       " 'geo': None,\n",
       " 'coordinates': None,\n",
       " 'place': None,\n",
       " 'contributors': None,\n",
       " 'is_quote_status': False,\n",
       " 'retweet_count': 47,\n",
       " 'favorite_count': 0,\n",
       " 'favorited': False,\n",
       " 'retweeted': False,\n",
       " 'lang': 'en',\n",
       " 'retweeted_status': {'created_at': 'Mon Apr 15 19:23:36 +0000 2013',\n",
       "  'id': 323879298987589632,\n",
       "  'id_str': '323879298987589632',\n",
       "  'full_text': \"This pic sure doesn't look good - “@thedailybeast: aftermath of the Boston Marathon bombing (via @brm90) http://t.co/jKO2ogjyQR”\",\n",
       "  'truncated': False,\n",
       "  'display_text_range': [0, 128],\n",
       "  'entities': {'hashtags': [],\n",
       "   'symbols': [],\n",
       "   'user_mentions': [{'screen_name': 'thedailybeast',\n",
       "     'name': 'The Daily Beast',\n",
       "     'id': 16012783,\n",
       "     'id_str': '16012783',\n",
       "     'indices': [35, 49]},\n",
       "    {'screen_name': 'brm90',\n",
       "     'name': 'Bruce Mendelsohn (The Hired Pen)',\n",
       "     'id': 18142983,\n",
       "     'id_str': '18142983',\n",
       "     'indices': [97, 103]}],\n",
       "   'urls': [{'url': 'http://t.co/jKO2ogjyQR',\n",
       "     'expanded_url': 'https://twitter.com/thedailybeast/status/323878971991285760/photo/1',\n",
       "     'display_url': 'pic.twitter.com/jKO2ogjyQR',\n",
       "     'indices': [105, 127]}]},\n",
       "  'source': '<a href=\"http://twitter.com/#!/download/ipad\" rel=\"nofollow\">Twitter for iPad</a>',\n",
       "  'in_reply_to_status_id': 323878971991285760,\n",
       "  'in_reply_to_status_id_str': '323878971991285760',\n",
       "  'in_reply_to_user_id': 16012783,\n",
       "  'in_reply_to_user_id_str': '16012783',\n",
       "  'in_reply_to_screen_name': 'thedailybeast',\n",
       "  'user': {'id': 235157198,\n",
       "   'id_str': '235157198',\n",
       "   'name': 'ThePhantomMannes',\n",
       "   'screen_name': 'awmannes',\n",
       "   'location': '',\n",
       "   'description': 'Come for the vice presidents (my PhD topic) and the robots, stay for the bureaucratic politics and whimsy. Eclectic tweets represent my opinion ONLY!!',\n",
       "   'url': 'https://t.co/XJRm6nkloo',\n",
       "   'entities': {'url': {'urls': [{'url': 'https://t.co/XJRm6nkloo',\n",
       "       'expanded_url': 'http://vicepresidency.org',\n",
       "       'display_url': 'vicepresidency.org',\n",
       "       'indices': [0, 23]}]},\n",
       "    'description': {'urls': []}},\n",
       "   'protected': False,\n",
       "   'followers_count': 920,\n",
       "   'friends_count': 1616,\n",
       "   'listed_count': 84,\n",
       "   'created_at': 'Fri Jan 07 14:07:55 +0000 2011',\n",
       "   'favourites_count': 32406,\n",
       "   'utc_offset': None,\n",
       "   'time_zone': None,\n",
       "   'geo_enabled': False,\n",
       "   'verified': False,\n",
       "   'statuses_count': 27659,\n",
       "   'lang': None,\n",
       "   'contributors_enabled': False,\n",
       "   'is_translator': False,\n",
       "   'is_translation_enabled': False,\n",
       "   'profile_background_color': '000000',\n",
       "   'profile_background_image_url': 'http://abs.twimg.com/images/themes/theme1/bg.png',\n",
       "   'profile_background_image_url_https': 'https://abs.twimg.com/images/themes/theme1/bg.png',\n",
       "   'profile_background_tile': False,\n",
       "   'profile_image_url': 'http://pbs.twimg.com/profile_images/1255309653896019968/R0URV7wx_normal.jpg',\n",
       "   'profile_image_url_https': 'https://pbs.twimg.com/profile_images/1255309653896019968/R0URV7wx_normal.jpg',\n",
       "   'profile_banner_url': 'https://pbs.twimg.com/profile_banners/235157198/1560300960',\n",
       "   'profile_link_color': 'ABB8C2',\n",
       "   'profile_sidebar_border_color': '000000',\n",
       "   'profile_sidebar_fill_color': '000000',\n",
       "   'profile_text_color': '000000',\n",
       "   'profile_use_background_image': False,\n",
       "   'has_extended_profile': False,\n",
       "   'default_profile': False,\n",
       "   'default_profile_image': False,\n",
       "   'following': None,\n",
       "   'follow_request_sent': None,\n",
       "   'notifications': None,\n",
       "   'translator_type': 'none'},\n",
       "  'geo': None,\n",
       "  'coordinates': None,\n",
       "  'place': None,\n",
       "  'contributors': None,\n",
       "  'is_quote_status': False,\n",
       "  'retweet_count': 47,\n",
       "  'favorite_count': 5,\n",
       "  'favorited': False,\n",
       "  'retweeted': False,\n",
       "  'possibly_sensitive': False,\n",
       "  'lang': 'en'},\n",
       " 'possibly_sensitive': None,\n",
       " 'extended_entities': None,\n",
       " 'quoted_status_id': None,\n",
       " 'quoted_status_id_str': None,\n",
       " 'quoted_status_permalink': None,\n",
       " 'quoted_status': None,\n",
       " 'withheld_in_countries': None,\n",
       " 'scopes': None,\n",
       " 'eventType': 'bombing',\n",
       " 'eventID': 'bostonBombings2013',\n",
       " 'target': 0}"
      ]
     },
     "metadata": {},
     "output_type": "display_data"
    }
   ],
   "source": [
    "# Print the first Tweet in the first event of the 'Discussion' category\n",
    "display(corpus_reader.docs(fileids=fileid)[1])"
   ]
  },
  {
   "cell_type": "code",
   "execution_count": 4,
   "metadata": {},
   "outputs": [
    {
     "data": {
      "text/plain": [
       "['Those poor people were raising money for their chosen charities. How could the human race do that to them! #prayforboston',\n",
       " \"RT @awmannes: This pic sure doesn't look good - “@thedailybeast: aftermath of the Boston Marathon bombing (via @brm90) http://t.co/jKO2o ...\",\n",
       " \"RT @RobGronkowski: Wow can't believe what just happened at the Boston Marathon. Praying for everyone down there.\",\n",
       " 'O.O Oh no! :( RT @alicegoldfuss: Explosions at the Boston Marathon. Warning: blood. https://t.co/p9Yn9mknIT (via @theoriginalwak)',\n",
       " \"RT @cnnbrk: New York City has tightened security in wake of explosions at #Boston Marathon. We don't know extent of casualties. http://t ...\",\n",
       " 'RT @mjbrender: All those concerned for loved ones in the #BostonMarathon - you can see where they last checked in here: http://t.co/gQT2 ...',\n",
       " 'RT @KCRG: ABC News is reporting that air quality experts have been brought into Boston to ensure explosions were not a chemical attack.',\n",
       " '@backrubprincess I believe it was a controlled explosion - at least according to the Boston feed I follow. Still super scary!',\n",
       " '#PrayForBoston.. this is so sad.. :( my prayers are with all of them',\n",
       " \"I hope everyone in Boston is ok and I'm gonna pray for all the marathon runners.\"]"
      ]
     },
     "metadata": {},
     "output_type": "display_data"
    }
   ],
   "source": [
    "# First 10 Tweet strings (full_text attribute)\n",
    "display(corpus_reader.strings(fileids=fileid)[:10])"
   ]
  },
  {
   "cell_type": "code",
   "execution_count": 8,
   "metadata": {},
   "outputs": [
    {
     "data": {
      "text/plain": [
       "[0, 0, 0, 0, 0, 0, 0, 0, 0, 0]"
      ]
     },
     "metadata": {},
     "output_type": "display_data"
    }
   ],
   "source": [
    "# First 10 labels if a Tweet belongs to the category in which the file is located\n",
    "display(corpus_reader.target(fileids=fileid)[:10])"
   ]
  },
  {
   "cell_type": "code",
   "execution_count": 7,
   "metadata": {},
   "outputs": [],
   "source": [
    "# First 10 labels if a Tweet quotes another tweet to the category in which the file is located\n",
    "display(corpus_reader.target(fileids=fileid)[:10])"
   ]
  },
  {
   "cell_type": "code",
   "execution_count": null,
   "metadata": {
    "scrolled": false
   },
   "outputs": [],
   "source": []
  }
 ],
 "metadata": {
  "kernelspec": {
   "display_name": "Python 3",
   "language": "python",
   "name": "python3"
  },
  "language_info": {
   "codemirror_mode": {
    "name": "ipython",
    "version": 3
   },
   "file_extension": ".py",
   "mimetype": "text/x-python",
   "name": "python",
   "nbconvert_exporter": "python",
   "pygments_lexer": "ipython3",
   "version": "3.7.6"
  }
 },
 "nbformat": 4,
 "nbformat_minor": 2
}
