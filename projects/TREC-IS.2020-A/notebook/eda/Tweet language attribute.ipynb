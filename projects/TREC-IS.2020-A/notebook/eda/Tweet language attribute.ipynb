{
 "cells": [
  {
   "cell_type": "code",
   "execution_count": 1,
   "metadata": {},
   "outputs": [
    {
     "name": "stdout",
     "output_type": "stream",
     "text": [
      "1.0.5\n"
     ]
    }
   ],
   "source": [
    "import numpy as np\n",
    "import pandas as pd\n",
    "\n",
    "print(pd.__version__)"
   ]
  },
  {
   "cell_type": "code",
   "execution_count": 2,
   "metadata": {},
   "outputs": [
    {
     "name": "stdout",
     "output_type": "stream",
     "text": [
      "<class 'pandas.core.frame.DataFrame'>\n",
      "RangeIndex: 32145 entries, 0 to 32144\n",
      "Data columns (total 33 columns):\n",
      " #   Column                     Non-Null Count  Dtype              \n",
      "---  ------                     --------------  -----              \n",
      " 0   created_at                 32145 non-null  datetime64[ns, UTC]\n",
      " 1   id                         32145 non-null  int64              \n",
      " 2   id_str                     32145 non-null  object             \n",
      " 3   full_text                  32145 non-null  object             \n",
      " 4   truncated                  32145 non-null  bool               \n",
      " 5   display_text_range         32145 non-null  object             \n",
      " 6   entities                   32145 non-null  object             \n",
      " 7   source                     32145 non-null  object             \n",
      " 8   in_reply_to_status_id      2174 non-null   float64            \n",
      " 9   in_reply_to_status_id_str  32145 non-null  object             \n",
      " 10  in_reply_to_user_id        2878 non-null   float64            \n",
      " 11  in_reply_to_user_id_str    32145 non-null  object             \n",
      " 12  in_reply_to_screen_name    2878 non-null   object             \n",
      " 13  user                       32145 non-null  object             \n",
      " 14  geo                        766 non-null    object             \n",
      " 15  coordinates                766 non-null    object             \n",
      " 16  place                      2832 non-null   object             \n",
      " 17  contributors               0 non-null      float64            \n",
      " 18  is_quote_status            32145 non-null  bool               \n",
      " 19  retweet_count              32145 non-null  int64              \n",
      " 20  favorite_count             32145 non-null  int64              \n",
      " 21  favorited                  32145 non-null  bool               \n",
      " 22  retweeted                  32145 non-null  bool               \n",
      " 23  lang                       32145 non-null  object             \n",
      " 24  retweeted_status           3713 non-null   object             \n",
      " 25  possibly_sensitive         18485 non-null  float64            \n",
      " 26  extended_entities          4901 non-null   object             \n",
      " 27  quoted_status_id           2195 non-null   float64            \n",
      " 28  quoted_status_id_str       2195 non-null   object             \n",
      " 29  quoted_status_permalink    2195 non-null   object             \n",
      " 30  quoted_status              2003 non-null   object             \n",
      " 31  withheld_in_countries      2 non-null      object             \n",
      " 32  scopes                     1 non-null      object             \n",
      "dtypes: bool(4), datetime64[ns, UTC](1), float64(5), int64(3), object(20)\n",
      "memory usage: 7.2+ MB\n"
     ]
    }
   ],
   "source": [
    "tweets_path = '../../data/raw/tweets/TRECIS_2018_2019-tweets.jsonl'\n",
    "\n",
    "partial_schema = {\n",
    "    'id': np.int64,\n",
    "    'id_str': np.str_,\n",
    "    'in_reply_to_status_id': np.int64,\n",
    "    'in_reply_to_status_id_str': np.str_,\n",
    "    'in_reply_to_user_id': np.int64,\n",
    "    'in_reply_to_user_id_str': np.str_,\n",
    "    'quoted_status_id': np.int64,\n",
    "    'quoted_status_id_str': np.int64\n",
    "}\n",
    "tweets = pd.read_json(tweets_path, lines=True, dtype=partial_schema)\n",
    "\n",
    "tweets.info(null_counts=True)"
   ]
  },
  {
   "cell_type": "code",
   "execution_count": 6,
   "metadata": {
    "scrolled": false
   },
   "outputs": [
    {
     "name": "stdout",
     "output_type": "stream",
     "text": [
      "<class 'pandas.core.frame.DataFrame'>\n",
      "RangeIndex: 32145 entries, 0 to 32144\n",
      "Data columns (total 29 columns):\n",
      " #   Column                 Non-Null Count  Dtype  \n",
      "---  ------                 --------------  -----  \n",
      " 0   eventType              32145 non-null  object \n",
      " 1   eventID                32145 non-null  object \n",
      " 2   postID                 32145 non-null  object \n",
      " 3   Advice                 32145 non-null  int64  \n",
      " 4   CleanUp                32145 non-null  int64  \n",
      " 5   ContextualInformation  32145 non-null  int64  \n",
      " 6   Discussion             32145 non-null  int64  \n",
      " 7   Donations              32145 non-null  int64  \n",
      " 8   EmergingThreats        32145 non-null  int64  \n",
      " 9   Factoid                32145 non-null  int64  \n",
      " 10  FirstPartyObservation  32145 non-null  int64  \n",
      " 11  GoodsServices          32145 non-null  int64  \n",
      " 12  Hashtags               32145 non-null  int64  \n",
      " 13  InformationWanted      32145 non-null  int64  \n",
      " 14  Irrelevant             32145 non-null  int64  \n",
      " 15  Location               32145 non-null  int64  \n",
      " 16  MovePeople             32145 non-null  int64  \n",
      " 17  MultimediaShare        32145 non-null  int64  \n",
      " 18  NewSubEvent            32145 non-null  int64  \n",
      " 19  News                   32145 non-null  int64  \n",
      " 20  Official               32145 non-null  int64  \n",
      " 21  OriginalEvent          32145 non-null  int64  \n",
      " 22  SearchAndRescue        32145 non-null  int64  \n",
      " 23  Sentiment              32145 non-null  int64  \n",
      " 24  ServiceAvailable       32145 non-null  int64  \n",
      " 25  ThirdPartyObservation  32145 non-null  int64  \n",
      " 26  Volunteer              32145 non-null  int64  \n",
      " 27  Weather                32145 non-null  int64  \n",
      " 28  Priority               32145 non-null  float64\n",
      "dtypes: float64(1), int64(25), object(3)\n",
      "memory usage: 7.1+ MB\n"
     ]
    }
   ],
   "source": [
    "labels_path = '../../data/processed/TRECIS_2018_2019-labels.jsonl'\n",
    "labels = pd.read_json(labels_path, lines=True, dtype={'postID':np.str_})\n",
    "\n",
    "labels.info(verbose=True, null_counts=True)"
   ]
  },
  {
   "cell_type": "code",
   "execution_count": 9,
   "metadata": {},
   "outputs": [],
   "source": [
    "from pandas.testing import assert_series_equal\n",
    "\n",
    "assert_series_equal(tweets.id.astype(str), tweets.id_str, check_names=False)"
   ]
  },
  {
   "cell_type": "code",
   "execution_count": 10,
   "metadata": {},
   "outputs": [
    {
     "name": "stdout",
     "output_type": "stream",
     "text": [
      "Total number of Tweets 32145\n",
      "Total number of labels 32145\n",
      "Total number of merged Tweets and labels 32145\n"
     ]
    }
   ],
   "source": [
    "annot_corpus = pd.merge(tweets, labels, left_on='id_str', right_on='postID', \n",
    "                        how='outer', validate='1:1')\n",
    "\n",
    "print(\"Total number of Tweets\", len(tweets))\n",
    "print(\"Total number of labels\", len(labels))\n",
    "print(\"Total number of merged Tweets and labels\", len(annot_corpus))"
   ]
  },
  {
   "cell_type": "markdown",
   "metadata": {},
   "source": [
    "### `lang`"
   ]
  },
  {
   "cell_type": "code",
   "execution_count": 11,
   "metadata": {},
   "outputs": [
    {
     "data": {
      "text/plain": [
       "en     31945\n",
       "tl        73\n",
       "und       51\n",
       "es        40\n",
       "hi         7\n",
       "pt         6\n",
       "fr         5\n",
       "in         4\n",
       "ja         3\n",
       "it         2\n",
       "nl         2\n",
       "pl         1\n",
       "eu         1\n",
       "lt         1\n",
       "tr         1\n",
       "ca         1\n",
       "cy         1\n",
       "et         1\n",
       "Name: lang, dtype: int64"
      ]
     },
     "execution_count": 11,
     "metadata": {},
     "output_type": "execute_result"
    }
   ],
   "source": [
    "tweets.lang.value_counts()"
   ]
  },
  {
   "cell_type": "code",
   "execution_count": 14,
   "metadata": {},
   "outputs": [
    {
     "name": "stdout",
     "output_type": "stream",
     "text": [
      "Overall proportion of english tweets  0.9937781925649402\n",
      "Total number of non-english Tweets 200\n"
     ]
    }
   ],
   "source": [
    "lang_en = tweets.lang == 'en'\n",
    "\n",
    "overall_en_proportion = len(tweets[lang_en]) / len(tweets)\n",
    "\n",
    "print('Overall proportion of english tweets ', overall_en_proportion)\n",
    "print('Total number of non-english Tweets', len(tweets[~lang_en]))"
   ]
  },
  {
   "cell_type": "code",
   "execution_count": 15,
   "metadata": {},
   "outputs": [
    {
     "name": "stdout",
     "output_type": "stream",
     "text": [
      "                                 en other  proportion_en  diff_in_%\n",
      "albertaFloods2013               646     0       1.000000   0.006222\n",
      "albertaWildfires2019           1858     0       1.000000   0.006222\n",
      "australiaBushfire2013           579     0       1.000000   0.006222\n",
      "bostonBombings2013              451     0       1.000000   0.006222\n",
      "chileEarthquake2014             296     4       0.986667  -0.007112\n",
      "coloradoStemShooting2019       1004     0       1.000000   0.006222\n",
      "costaRicaEarthquake2012         216     1       0.995392   0.001614\n",
      "cycloneKenneth2019             1811     0       1.000000   0.006222\n",
      "earthquakeBohol2013             381    86       0.815846  -0.177932\n",
      "earthquakeCalifornia2014        124     0       1.000000   0.006222\n",
      "fireColorado2012                239     0       1.000000   0.006222\n",
      "fireYMM2016                    2415     0       1.000000   0.006222\n",
      "flSchoolShooting2018            801    42       0.950178  -0.043600\n",
      "floodChoco2019                  325     0       1.000000   0.006222\n",
      "floodColorado2013               203     3       0.985437  -0.008341\n",
      "guatemalaEarthquake2012         132     0       1.000000   0.006222\n",
      "hurricaneFlorence2018          1724     0       1.000000   0.006222\n",
      "italyEarthquakes2012             88     0       1.000000   0.006222\n",
      "joplinTornado2011                88     4       0.956522  -0.037256\n",
      "laAirportShooting2013           140     0       1.000000   0.006222\n",
      "manilaFloods2013                313     0       1.000000   0.006222\n",
      "nepalEarthquake2015            5344    15       0.997201   0.003423\n",
      "parisAttacks2015               1802     0       1.000000   0.006222\n",
      "philipinnesFloods2012           352     0       1.000000   0.006222\n",
      "philippinesEarthquake2019      1742     0       1.000000   0.006222\n",
      "queenslandFloods2013            626     0       1.000000   0.006222\n",
      "sandiegoSynagogueShooting2019   571     0       1.000000   0.006222\n",
      "shootingDallas2017             2218     0       1.000000   0.006222\n",
      "southAfricaFloods2019          1181     0       1.000000   0.006222\n",
      "typhoonHagupit2014             3496     6       0.998287   0.004509\n",
      "typhoonPablo2012                166    32       0.838384  -0.155394\n",
      "typhoonYolanda2013              468     0       1.000000   0.006222\n",
      "westTexasExplosion2013          145     7       0.953947  -0.039831\n"
     ]
    }
   ],
   "source": [
    "tweets_lang = pd.DataFrame(columns=['en', 'other'])\n",
    "\n",
    "_groupby = annot_corpus.groupby('eventID')\n",
    "for event in _groupby.groups:\n",
    "    event_tweets = _groupby.get_group(event)\n",
    "    tweets_lang.loc[event, 'en'] = event_tweets[event_tweets.lang == 'en'].shape[0]\n",
    "    tweets_lang.loc[event, 'other'] = event_tweets.shape[0] - tweets_lang.loc[event, 'en']\n",
    "    tweets_lang.loc[event, 'proportion_en'] = tweets_lang.loc[event, 'en'] / len(event_tweets)\n",
    "    tweets_lang.loc[event, 'diff_in_%'] = tweets_lang.loc[event, 'proportion_en'] - overall_en_proportion\n",
    "    \n",
    "print(tweets_lang)"
   ]
  },
  {
   "cell_type": "code",
   "execution_count": 16,
   "metadata": {},
   "outputs": [
    {
     "name": "stdout",
     "output_type": "stream",
     "text": [
      "              en other  proportion_en  diff_in_%\n",
      "bombing     2398     7       0.997089   0.003311\n",
      "earthquake  8323   106       0.987424  -0.006354\n",
      "flood       3646     3       0.999178   0.005400\n",
      "shooting    4734    42       0.991206  -0.002572\n",
      "typhoon     7753    42       0.994612   0.000834\n",
      "wildfire    5091     0       1.000000   0.006222\n"
     ]
    }
   ],
   "source": [
    "tweets_lang = pd.DataFrame(columns=['en', 'other'])\n",
    "\n",
    "_groupby = annot_corpus.groupby('eventType')\n",
    "for event in _groupby.groups:\n",
    "    event_tweets = _groupby.get_group(event)\n",
    "    tweets_lang.loc[event, 'en'] = event_tweets[event_tweets.lang == 'en'].shape[0]\n",
    "    tweets_lang.loc[event, 'other'] = event_tweets.shape[0] - tweets_lang.loc[event, 'en']\n",
    "    tweets_lang.loc[event, 'proportion_en'] = tweets_lang.loc[event, 'en'] / len(event_tweets)\n",
    "    tweets_lang.loc[event, 'diff_in_%'] = tweets_lang.loc[event, 'proportion_en'] - overall_en_proportion\n",
    "    \n",
    "print(tweets_lang)"
   ]
  },
  {
   "cell_type": "code",
   "execution_count": null,
   "metadata": {},
   "outputs": [],
   "source": []
  }
 ],
 "metadata": {
  "kernelspec": {
   "display_name": "Python 3",
   "language": "python",
   "name": "python3"
  },
  "language_info": {
   "codemirror_mode": {
    "name": "ipython",
    "version": 3
   },
   "file_extension": ".py",
   "mimetype": "text/x-python",
   "name": "python",
   "nbconvert_exporter": "python",
   "pygments_lexer": "ipython3",
   "version": "3.7.6"
  }
 },
 "nbformat": 4,
 "nbformat_minor": 2
}
