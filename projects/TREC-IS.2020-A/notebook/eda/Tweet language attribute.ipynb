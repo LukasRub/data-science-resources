{
 "cells": [
  {
   "cell_type": "code",
   "execution_count": 1,
   "metadata": {},
   "outputs": [
    {
     "name": "stdout",
     "output_type": "stream",
     "text": [
      "1.0.3\n"
     ]
    }
   ],
   "source": [
    "import numpy as np\n",
    "import pandas as pd\n",
    "\n",
    "print(pd.__version__)"
   ]
  },
  {
   "cell_type": "code",
   "execution_count": 2,
   "metadata": {},
   "outputs": [
    {
     "name": "stdout",
     "output_type": "stream",
     "text": [
      "<class 'pandas.core.frame.DataFrame'>\n",
      "RangeIndex: 31960 entries, 0 to 31959\n",
      "Data columns (total 33 columns):\n",
      " #   Column                     Non-Null Count  Dtype              \n",
      "---  ------                     --------------  -----              \n",
      " 0   created_at                 31960 non-null  datetime64[ns, UTC]\n",
      " 1   id                         31960 non-null  int64              \n",
      " 2   id_str                     31960 non-null  object             \n",
      " 3   full_text                  31960 non-null  object             \n",
      " 4   truncated                  31960 non-null  bool               \n",
      " 5   display_text_range         31960 non-null  object             \n",
      " 6   entities                   31960 non-null  object             \n",
      " 7   source                     31960 non-null  object             \n",
      " 8   in_reply_to_status_id      2169 non-null   float64            \n",
      " 9   in_reply_to_status_id_str  31960 non-null  object             \n",
      " 10  in_reply_to_user_id        2872 non-null   float64            \n",
      " 11  in_reply_to_user_id_str    31960 non-null  object             \n",
      " 12  in_reply_to_screen_name    2872 non-null   object             \n",
      " 13  user                       31960 non-null  object             \n",
      " 14  geo                        758 non-null    object             \n",
      " 15  coordinates                758 non-null    object             \n",
      " 16  place                      2811 non-null   object             \n",
      " 17  contributors               0 non-null      float64            \n",
      " 18  is_quote_status            31960 non-null  bool               \n",
      " 19  retweet_count              31960 non-null  int64              \n",
      " 20  favorite_count             31960 non-null  int64              \n",
      " 21  favorited                  31960 non-null  bool               \n",
      " 22  retweeted                  31960 non-null  bool               \n",
      " 23  lang                       31960 non-null  object             \n",
      " 24  retweeted_status           3675 non-null   object             \n",
      " 25  possibly_sensitive         18410 non-null  float64            \n",
      " 26  extended_entities          4876 non-null   object             \n",
      " 27  quoted_status_id           2188 non-null   float64            \n",
      " 28  quoted_status_id_str       2188 non-null   object             \n",
      " 29  quoted_status_permalink    2188 non-null   object             \n",
      " 30  quoted_status              1996 non-null   object             \n",
      " 31  withheld_in_countries      2 non-null      object             \n",
      " 32  scopes                     1 non-null      object             \n",
      "dtypes: bool(4), datetime64[ns, UTC](1), float64(5), int64(3), object(20)\n",
      "memory usage: 7.2+ MB\n"
     ]
    }
   ],
   "source": [
    "tweets_path = '../../data/raw/train/tweets/TRECIS_2018_2019-tweets.jsonl'\n",
    "\n",
    "partial_schema = {\n",
    "    'id': np.int64,\n",
    "    'id_str': np.str_,\n",
    "    'in_reply_to_status_id': np.int64,\n",
    "    'in_reply_to_status_id_str': np.str_,\n",
    "    'in_reply_to_user_id': np.int64,\n",
    "    'in_reply_to_user_id_str': np.str_,\n",
    "    'quoted_status_id': np.int64,\n",
    "    'quoted_status_id_str': np.int64\n",
    "}\n",
    "tweets = pd.read_json(tweets_path, lines=True, dtype=partial_schema)\n",
    "\n",
    "tweets.info(null_counts=True)"
   ]
  },
  {
   "cell_type": "code",
   "execution_count": 3,
   "metadata": {
    "scrolled": false
   },
   "outputs": [
    {
     "name": "stdout",
     "output_type": "stream",
     "text": [
      "<class 'pandas.core.frame.DataFrame'>\n",
      "RangeIndex: 31960 entries, 0 to 31959\n",
      "Data columns (total 29 columns):\n",
      " #   Column                 Non-Null Count  Dtype  \n",
      "---  ------                 --------------  -----  \n",
      " 0   eventType              31960 non-null  object \n",
      " 1   eventID                31960 non-null  object \n",
      " 2   postID                 31960 non-null  object \n",
      " 3   Advice                 31960 non-null  int64  \n",
      " 4   CleanUp                31960 non-null  int64  \n",
      " 5   ContextualInformation  31960 non-null  int64  \n",
      " 6   Discussion             31960 non-null  int64  \n",
      " 7   Donations              31960 non-null  int64  \n",
      " 8   EmergingThreats        31960 non-null  int64  \n",
      " 9   Factoid                31960 non-null  int64  \n",
      " 10  FirstPartyObservation  31960 non-null  int64  \n",
      " 11  GoodsServices          31960 non-null  int64  \n",
      " 12  Hashtags               31960 non-null  int64  \n",
      " 13  InformationWanted      31960 non-null  int64  \n",
      " 14  Irrelevant             31960 non-null  int64  \n",
      " 15  Location               31960 non-null  int64  \n",
      " 16  MovePeople             31960 non-null  int64  \n",
      " 17  MultimediaShare        31960 non-null  int64  \n",
      " 18  NewSubEvent            31960 non-null  int64  \n",
      " 19  News                   31960 non-null  int64  \n",
      " 20  Official               31960 non-null  int64  \n",
      " 21  OriginalEvent          31960 non-null  int64  \n",
      " 22  SearchAndRescue        31960 non-null  int64  \n",
      " 23  Sentiment              31960 non-null  int64  \n",
      " 24  ServiceAvailable       31960 non-null  int64  \n",
      " 25  ThirdPartyObservation  31960 non-null  int64  \n",
      " 26  Volunteer              31960 non-null  int64  \n",
      " 27  Weather                31960 non-null  int64  \n",
      " 28  Priority               31960 non-null  float64\n",
      "dtypes: float64(1), int64(25), object(3)\n",
      "memory usage: 7.1+ MB\n"
     ]
    }
   ],
   "source": [
    "labels_path = '../../data/processed/train/labels/TRECIS_2018_2019-labels.jsonl'\n",
    "labels = pd.read_json(labels_path, lines=True, dtype={'postID':np.str_})\n",
    "\n",
    "labels.info(verbose=True, null_counts=True)"
   ]
  },
  {
   "cell_type": "code",
   "execution_count": 4,
   "metadata": {},
   "outputs": [],
   "source": [
    "from pandas.testing import assert_series_equal\n",
    "assert_series_equal(tweets.id.astype(str), tweets.id_str, check_names=False)"
   ]
  },
  {
   "cell_type": "code",
   "execution_count": 5,
   "metadata": {},
   "outputs": [
    {
     "name": "stdout",
     "output_type": "stream",
     "text": [
      "31960\n",
      "31960\n",
      "31960\n"
     ]
    }
   ],
   "source": [
    "annot_corpus = pd.merge(tweets, labels, left_on='id_str', right_on='postID', \n",
    "                        how='outer', validate='1:1')\n",
    "\n",
    "print(len(tweets))\n",
    "print(len(labels))\n",
    "print(len(annot_corpus))"
   ]
  },
  {
   "cell_type": "markdown",
   "metadata": {},
   "source": [
    "### `lang`"
   ]
  },
  {
   "cell_type": "code",
   "execution_count": 6,
   "metadata": {},
   "outputs": [
    {
     "data": {
      "text/plain": [
       "en    31960\n",
       "Name: lang, dtype: int64"
      ]
     },
     "execution_count": 6,
     "metadata": {},
     "output_type": "execute_result"
    }
   ],
   "source": [
    "tweets.lang.value_counts()"
   ]
  },
  {
   "cell_type": "code",
   "execution_count": 7,
   "metadata": {},
   "outputs": [
    {
     "name": "stdout",
     "output_type": "stream",
     "text": [
      "Overall proportion of english tweets  0.9937807077554575\n",
      "200\n"
     ]
    }
   ],
   "source": [
    "lang_en = tweets.lang == 'en'\n",
    "\n",
    "overall_en_proportion = len(tweets[lang_en]) / len(tweets)\n",
    "\n",
    "print('Overall proportion of english tweets ', overall_en_proportion)\n",
    "print(len(tweets[~lang_en]))"
   ]
  },
  {
   "cell_type": "code",
   "execution_count": 8,
   "metadata": {},
   "outputs": [
    {
     "name": "stdout",
     "output_type": "stream",
     "text": [
      "                                 en other  proportion_en  diff_in_%\n",
      "albertaFloods2013               647     0       1.000000   0.006219\n",
      "albertaWildfires2019           1860     0       1.000000   0.006219\n",
      "australiaBushfire2013           580     0       1.000000   0.006219\n",
      "bostonBombings2013              449     0       1.000000   0.006219\n",
      "chileEarthquake2014             295     4       0.986622  -0.007159\n",
      "coloradoStemShooting2019       1003     0       1.000000   0.006219\n",
      "costaRicaEarthquake2012         217     1       0.995413   0.001632\n",
      "cycloneKenneth2019             1808     0       1.000000   0.006219\n",
      "earthquakeBohol2013             382    86       0.816239  -0.177541\n",
      "earthquakeCalifornia2014        124     0       1.000000   0.006219\n",
      "fireColorado2012                239     0       1.000000   0.006219\n",
      "fireYMM2016                    2414     0       1.000000   0.006219\n",
      "flSchoolShooting2018            801    42       0.950178  -0.043603\n",
      "floodChoco2019                  325     0       1.000000   0.006219\n",
      "floodColorado2013               203     3       0.985437  -0.008344\n",
      "guatemalaEarthquake2012         132     0       1.000000   0.006219\n",
      "hurricaneFlorence2018          1724     0       1.000000   0.006219\n",
      "italyEarthquakes2012             88     0       1.000000   0.006219\n",
      "joplinTornado2011                88     4       0.956522  -0.037259\n",
      "laAirportShooting2013           139     0       1.000000   0.006219\n",
      "manilaFloods2013                318     0       1.000000   0.006219\n",
      "nepalEarthquake2015            5349    15       0.997204   0.003423\n",
      "parisAttacks2015               1801     0       1.000000   0.006219\n",
      "philipinnesFloods2012           355     0       1.000000   0.006219\n",
      "philippinesEarthquake2019      1738     0       1.000000   0.006219\n",
      "queenslandFloods2013            627     0       1.000000   0.006219\n",
      "sandiegoSynagogueShooting2019   572     0       1.000000   0.006219\n",
      "shootingDallas2017             2224     0       1.000000   0.006219\n",
      "southAfricaFloods2019          1182     0       1.000000   0.006219\n",
      "typhoonHagupit2014             3493     6       0.998285   0.004505\n",
      "typhoonPablo2012                167    32       0.839196  -0.154585\n",
      "typhoonYolanda2013              469     0       1.000000   0.006219\n",
      "westTexasExplosion2013          145     7       0.953947  -0.039833\n"
     ]
    }
   ],
   "source": [
    "tweets_lang = pd.DataFrame(columns=['en', 'other'])\n",
    "\n",
    "_groupby = annot_corpus.groupby('eventID')\n",
    "for event in _groupby.groups:\n",
    "    event_tweets = _groupby.get_group(event)\n",
    "    tweets_lang.loc[event, 'en'] = event_tweets[event_tweets.lang == 'en'].shape[0]\n",
    "    tweets_lang.loc[event, 'other'] = event_tweets.shape[0] - tweets_lang.loc[event, 'en']\n",
    "    tweets_lang.loc[event, 'proportion_en'] = tweets_lang.loc[event, 'en'] / len(event_tweets)\n",
    "    tweets_lang.loc[event, 'diff_in_%'] = tweets_lang.loc[event, 'proportion_en'] - overall_en_proportion\n",
    "    \n",
    "print(tweets_lang)"
   ]
  },
  {
   "cell_type": "code",
   "execution_count": 9,
   "metadata": {},
   "outputs": [
    {
     "name": "stdout",
     "output_type": "stream",
     "text": [
      "              en other  proportion_en  diff_in_%\n",
      "bombing     2395     7       0.997086   0.003305\n",
      "earthquake  8325   106       0.987427  -0.006353\n",
      "flood       3657     3       0.999180   0.005400\n",
      "shooting    4739    42       0.991215  -0.002565\n",
      "typhoon     7749    42       0.994609   0.000828\n",
      "wildfire    5093     0       1.000000   0.006219\n"
     ]
    }
   ],
   "source": [
    "tweets_lang = pd.DataFrame(columns=['en', 'other'])\n",
    "\n",
    "_groupby = annot_corpus.groupby('eventType')\n",
    "for event in _groupby.groups:\n",
    "    event_tweets = _groupby.get_group(event)\n",
    "    tweets_lang.loc[event, 'en'] = event_tweets[event_tweets.lang == 'en'].shape[0]\n",
    "    tweets_lang.loc[event, 'other'] = event_tweets.shape[0] - tweets_lang.loc[event, 'en']\n",
    "    tweets_lang.loc[event, 'proportion_en'] = tweets_lang.loc[event, 'en'] / len(event_tweets)\n",
    "    tweets_lang.loc[event, 'diff_in_%'] = tweets_lang.loc[event, 'proportion_en'] - overall_en_proportion\n",
    "    \n",
    "print(tweets_lang)"
   ]
  },
  {
   "cell_type": "code",
   "execution_count": null,
   "metadata": {},
   "outputs": [],
   "source": []
  }
 ],
 "metadata": {
  "kernelspec": {
   "display_name": "Python 3",
   "language": "python",
   "name": "python3"
  },
  "language_info": {
   "codemirror_mode": {
    "name": "ipython",
    "version": 3
   },
   "file_extension": ".py",
   "mimetype": "text/x-python",
   "name": "python",
   "nbconvert_exporter": "python",
   "pygments_lexer": "ipython3",
   "version": "3.7.5"
  }
 },
 "nbformat": 4,
 "nbformat_minor": 2
}
