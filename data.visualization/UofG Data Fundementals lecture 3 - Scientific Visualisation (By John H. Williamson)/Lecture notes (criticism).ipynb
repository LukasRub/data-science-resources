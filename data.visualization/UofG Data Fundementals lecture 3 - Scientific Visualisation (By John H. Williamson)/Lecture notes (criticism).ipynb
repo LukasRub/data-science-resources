{
 "cells": [
  {
   "cell_type": "markdown",
   "metadata": {},
   "source": [
    "## Data Fundamentals (H)\n",
    "# Week 3: Scientific visualisation\n",
    "## Supplement: criticising visualisations and good practice\n",
    "------\n",
    " ##### DF(H) - University of Glasgow - John H. Williamson - 2017"
   ]
  },
  {
   "cell_type": "markdown",
   "metadata": {},
   "source": [
    "# Criticising visualisations\n",
    "### Avoid chartjunk\n",
    "Tufte proposed the principle of the **data-to-ink** ratio. As little \"ink\" (that is, markings) should be used to communicate as much data as possible. A simple, clean visualisation is less confusing and more aesthetically pleasing than a jumbled mess of unneccessary **chartjunk**.\n",
    "\n",
    "Typical chartjunk includes:\n",
    "* Frames around plots\n",
    "* Obtrusive grids\n",
    "* Excessive marker or line styles\n",
    "* Lack of visual distinction between important and unimportant elements\n",
    "* Excessive tick marks\n",
    "* Excessive annotations\n",
    "* Clipart (just say no to clipart) \n",
    "\n",
    "\n",
    "<img src=\"imgs/contrast_thick.png\">\n",
    "\n",
    "*[**Left:** a dense, messy plot with lots of extraneous elements, including a dense grid, excessive tick marks and unnecessary markers. **Right** the same plot, in a clean, style with just enough elements to make the graph clear and readable.]*"
   ]
  },
  {
   "cell_type": "markdown",
   "metadata": {},
   "source": [
    "### Represent uncertainty clearly and honestly\n",
    "* Include measures of spread of a sample if these are relevant to comparing values.\n",
    "* Bar charts should have error bars if they represent measures of central tendency (e.g. means, medians).\n",
    "* Use Box plots or similar techniques (e.g. violin plots) if the distribution of values is useful in making judgements about differences between groups.\n",
    "* Ribbon plots can be used to extend line geoms to include uncertainty.\n",
    "\n",
    "<img src=\"imgs/contrast_uncertainty.png\">\n",
    "\n",
    " *[**Left** blue and green represent means of two groups, but no uncertainty is shown. It is impossible to tell how big the differences between the blue and grean results really are. **Centre** error bars give some indication of the spread of values. **Right** a Box plot is more complete summary and should be used whenever it is appropriate to do so*]"
   ]
  },
  {
   "cell_type": "markdown",
   "metadata": {},
   "source": [
    "### Don't use deceptive scales\n",
    "Use axis scales that inform the reader without distorting the message. \n",
    "\n",
    "* Don't cut off data when plotting, except in extreme cases, and there you must be careful to explicitly annotate what has been cut off.\n",
    "\n",
    "* Avoid broken axes unless absolutely necessary. Especially avoid axes that are broken somewhere other than at the origin!\n",
    "\n",
    "* Use appropriate linear or logarithmic transformations to make the relationship clear.\n",
    "\n",
    "* Avoid area-based (and especially volume-based) representations; you must make sure that the apparent area/volume is proportional to the value displayed and not the radius/diameter of the object and such graphs are still hard to read.\n",
    "<img src=\"imgs/contrast_scales.png\">\n",
    "\n",
    " *[**Left** radii of points are proportional to value; this massively inflates differences and no guide is provided to establish the units. **Centre** Visual units are now linear with data units, but the y axis scale is truncated, and the difference between the first two items is exaggerated; **Right** the y axis scale is no longer misleading]*\n",
    " \n",
    " <img src=\"imgs/contrast_logscale.png\">\n",
    " \n",
    " *[**Left** Sizes of landmasses in the world are impossible to see clearly on a linear scale, since there is a huge range of magnitude **Right** A log scale makes it possible to distinguish differences in the smaller landmasses, and gives a clearer sense of the trend.]*\n",
    " "
   ]
  },
  {
   "cell_type": "markdown",
   "metadata": {},
   "source": [
    "### Provide guides\n",
    "* Always provide guides for visual units (i.e. tick marks) and label axes clearly, with real-world units wherever possible. \n",
    "\n",
    "* Always use legends to identify different layers in a plot\n",
    "\n",
    "* Always provide a descriptive title to a plot, and a caption which explains what the figure is and what the reader should gain from looking at it.\n",
    "\n",
    "<img src=\"imgs/contrast_guides.png\">"
   ]
  },
  {
   "cell_type": "markdown",
   "metadata": {},
   "source": [
    "*[**Left** No guides at all (no axes, no grid, no legend) **Right** axis labels present, with real world units. Legend identifies layers. Grid makes it easy to look up specific values]*"
   ]
  },
  {
   "cell_type": "markdown",
   "metadata": {},
   "source": [
    "### False connectivity\n",
    "Don't connect data points with lines or curves if they don't form a continuous function. If the x axis has no defined order (categorical variable), it is even less meaningful to draw lines in between data points.\n",
    "\n",
    "<img src=\"imgs/contrast_connect.png\">"
   ]
  },
  {
   "cell_type": "markdown",
   "metadata": {},
   "source": [
    "*[**Left** Lines connect landmasses, but what does it mean to be in between \"Greenland\" and \"Antartica\"? The data do not form a continuous function. **Centre** No false connectivity between distinct items. **Right** A bar chart is easier to read, and by sorting the elements before plotting the graph becomes more organised and easier to read.]*"
   ]
  },
  {
   "cell_type": "markdown",
   "metadata": {},
   "source": [
    "### Don't clutter\n",
    "* If you have huge numbers of markers or other geoms present, consider using a lower opacity to make the plot easier to read.\n",
    "\n",
    "* If this isn't sufficient, consider using a 2D histogram or kernel density estimate to show the **density** of points accurately (at the expense of losing the precise location of individual data points).\n",
    "\n",
    "* Emphasise important curves or datapoints with thicker lines, larger points, but don't go overboard.\n",
    "\n",
    "<img src=\"imgs/contrast_alpha.png\">"
   ]
  },
  {
   "cell_type": "markdown",
   "metadata": {},
   "source": [
    "*[**Left** Extremely dense scatterplot with large markers. The points become indistinct and the whole area turns into a blue mass. **Right** Appropriate use of alpha blending (opacity) can reveal the density of points more accurately and declutter the plot.]*"
   ]
  },
  {
   "cell_type": "markdown",
   "metadata": {},
   "source": [
    "### Use appropriate colour scales\n",
    "* If your data is unsigned (positive only), use a perceptually linear colour map with monotonically increasing brightness.\n",
    "\n",
    "* If your data is signed (and the sign matters), use a colour map which diverges around 0.\n",
    "\n",
    "* Scale data to colorscales appropriately, and always provide a colour bar.\n",
    "\n",
    "<img src=\"imgs/contrast_color.png\">"
   ]
  },
  {
   "cell_type": "markdown",
   "metadata": {},
   "source": [
    "*[**Left** The colour scale is wholly inappropriate, with discrete steps in colour introducing false contours, and a very low contrast result which is not perceptually linear in brightness. There is no guide to indicate how to interpret the colour values.\n",
    "**Right** Perceptually linear, monotonically increasing brightness colour map. A colour bar is provided as a guide to the true values being displayed.]*"
   ]
  },
  {
   "cell_type": "markdown",
   "metadata": {},
   "source": [
    "### Use appropriate styling\n",
    "\n",
    "* Make sure your geoms are distinguishable in black and white if they might appear in black and white. \n",
    "\n",
    "* Use dashed styles, but sparingly; only 2 or 3 can easily be distinguished on a plot.\n",
    "\n",
    "* Mark actual measurements with markers if the reader might need to know where the measurements are.\n",
    "\n",
    "<img src=\"imgs/contrast_bar_color.png\">\n",
    "\n",
    "<img src=\"imgs/contrast_linestyle.png\">"
   ]
  },
  {
   "cell_type": "markdown",
   "metadata": {},
   "source": [
    "*[**Left** All geoms are plotted in the same colour, and same style. It is impossible to tell the different layers of the plot apart.  **Right** Different colours (above) and different line styles (below) are applied to geoms to visually distinguish different layers of the plot]*"
   ]
  },
  {
   "cell_type": "markdown",
   "metadata": {},
   "source": []
  },
  {
   "cell_type": "code",
   "execution_count": null,
   "metadata": {},
   "outputs": [],
   "source": []
  }
 ],
 "metadata": {
  "kernelspec": {
   "display_name": "Python 3",
   "language": "python",
   "name": "python3"
  },
  "language_info": {
   "codemirror_mode": {
    "name": "ipython",
    "version": 3
   },
   "file_extension": ".py",
   "mimetype": "text/x-python",
   "name": "python",
   "nbconvert_exporter": "python",
   "pygments_lexer": "ipython3",
   "version": "3.7.6"
  },
  "toc": {
   "base_numbering": 1,
   "nav_menu": {},
   "number_sections": true,
   "sideBar": true,
   "skip_h1_title": false,
   "title_cell": "Table of Contents",
   "title_sidebar": "Contents",
   "toc_cell": false,
   "toc_position": {},
   "toc_section_display": true,
   "toc_window_display": true
  }
 },
 "nbformat": 4,
 "nbformat_minor": 1
}
